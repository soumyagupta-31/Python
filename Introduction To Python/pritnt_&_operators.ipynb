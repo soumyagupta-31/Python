{
  "cells": [
    {
      "cell_type": "code",
      "execution_count": null,
      "metadata": {
        "colab": {
          "base_uri": "https://localhost:8080/"
        },
        "id": "oklxx9W0GhIJ",
        "outputId": "944d42e9-36e6-4ba5-fe22-13512988097d"
      },
      "outputs": [
        {
          "name": "stdout",
          "output_type": "stream",
          "text": [
            "hello world\n"
          ]
        }
      ],
      "source": [
        "print('hello world')"
      ]
    },
    {
      "cell_type": "markdown",
      "metadata": {
        "id": "tkKL6c6yPGuW"
      },
      "source": [
        "1). int"
      ]
    },
    {
      "cell_type": "code",
      "execution_count": null,
      "metadata": {
        "colab": {
          "base_uri": "https://localhost:8080/"
        },
        "id": "as3GvaGnKtaU",
        "outputId": "0b8876d0-635c-458e-cecd-a06f37f2b2c2"
      },
      "outputs": [
        {
          "name": "stdout",
          "output_type": "stream",
          "text": [
            "100000\n",
            "100\n",
            "0\n",
            "-10\n",
            "-1234567\n"
          ]
        }
      ],
      "source": [
        "print(100000)\n",
        "print(100)\n",
        "print(0)\n",
        "print(-10)\n",
        "print(-1234567)"
      ]
    },
    {
      "cell_type": "markdown",
      "metadata": {
        "id": "LQn5qcXQPqE-"
      },
      "source": [
        "2). type"
      ]
    },
    {
      "cell_type": "code",
      "execution_count": null,
      "metadata": {
        "colab": {
          "base_uri": "https://localhost:8080/"
        },
        "id": "breyKHHPPUr4",
        "outputId": "657b3800-8469-4984-91d7-d24e6933766b"
      },
      "outputs": [
        {
          "name": "stdout",
          "output_type": "stream",
          "text": [
            "<class 'int'>\n"
          ]
        }
      ],
      "source": [
        "print(type(123122))"
      ]
    },
    {
      "cell_type": "code",
      "execution_count": null,
      "metadata": {
        "colab": {
          "base_uri": "https://localhost:8080/"
        },
        "id": "ts2fR7wsP6nQ",
        "outputId": "78131b7f-6830-445b-963b-1495ee481546"
      },
      "outputs": [
        {
          "name": "stdout",
          "output_type": "stream",
          "text": [
            "100000.0\n",
            "100.8\n",
            "0.0\n",
            "-10.9\n",
            "-123456.97\n",
            "<class 'float'>\n"
          ]
        }
      ],
      "source": [
        "print(100000.0)\n",
        "print(100.8)\n",
        "print(0.0)\n",
        "print(-10.9)\n",
        "print(-123456.97)\n",
        "print(type(0.0))"
      ]
    },
    {
      "cell_type": "markdown",
      "metadata": {
        "id": "DZGXwNMjQPlp"
      },
      "source": [
        "3). string"
      ]
    },
    {
      "cell_type": "code",
      "execution_count": null,
      "metadata": {
        "colab": {
          "base_uri": "https://localhost:8080/"
        },
        "id": "mtlG4JO_QMNh",
        "outputId": "7f72c7a6-f95b-402c-8955-ea8deb2be564"
      },
      "outputs": [
        {
          "name": "stdout",
          "output_type": "stream",
          "text": [
            "a\n",
            "Soumya Gupta\n",
            "this is a class by gfg\n",
            "<class 'str'>\n",
            "<class 'str'>\n"
          ]
        }
      ],
      "source": [
        "print(\"a\")\n",
        "print('Soumya Gupta')\n",
        "print('this is a class by gfg')\n",
        "print(type('this is a class by gfg'))\n",
        "print(type('1'))"
      ]
    },
    {
      "cell_type": "markdown",
      "metadata": {
        "id": "V_8VeKFtRXks"
      },
      "source": [
        "4). boolean"
      ]
    },
    {
      "cell_type": "code",
      "execution_count": null,
      "metadata": {
        "colab": {
          "base_uri": "https://localhost:8080/"
        },
        "id": "0DVXhCrvQfPc",
        "outputId": "7d40ec9f-5e0f-4023-de86-13265360ad47"
      },
      "outputs": [
        {
          "name": "stdout",
          "output_type": "stream",
          "text": [
            "True\n",
            "False\n",
            "<class 'bool'>\n"
          ]
        }
      ],
      "source": [
        "print(True)\n",
        "print(False)\n",
        "print(type(True))"
      ]
    },
    {
      "cell_type": "markdown",
      "metadata": {
        "id": "nYwF8YQVSEuX"
      },
      "source": [
        "5). functionanlities in print statement"
      ]
    },
    {
      "cell_type": "code",
      "execution_count": null,
      "metadata": {
        "colab": {
          "base_uri": "https://localhost:8080/"
        },
        "id": "U4Cx8rCWRiEK",
        "outputId": "8cd98588-18b7-4c77-cae4-ee7ad9a623f6"
      },
      "outputs": [
        {
          "name": "stdout",
          "output_type": "stream",
          "text": [
            "a\n",
            "b\n",
            "c\n",
            "a b c\n",
            "a 2 c\n"
          ]
        }
      ],
      "source": [
        " print('a')\n",
        " print('b')\n",
        " print('c')\n",
        " print('a', 'b' , 'c')\n",
        " print('a', 2 , 'c')"
      ]
    },
    {
      "cell_type": "code",
      "execution_count": null,
      "metadata": {
        "colab": {
          "base_uri": "https://localhost:8080/"
        },
        "id": "JLTiYa8QSB63",
        "outputId": "d52198e4-a1b8-46af-f0ea-a762262e19d3"
      },
      "outputs": [
        {
          "name": "stdout",
          "output_type": "stream",
          "text": [
            "a b - c * a-------b-------c\n"
          ]
        }
      ],
      "source": [
        " print('a', end = ' ')\n",
        " print('b', end = ' - ')\n",
        " print('c', end = ' * ')\n",
        " print('a', 'b' , 'c' , sep = '-------')"
      ]
    },
    {
      "cell_type": "markdown",
      "metadata": {
        "id": "e-GI-YoNVQkY"
      },
      "source": [
        "6). airthmetic operators"
      ]
    },
    {
      "cell_type": "markdown",
      "metadata": {
        "id": "QETWJmZHVX-h"
      },
      "source": [
        "a) addition"
      ]
    },
    {
      "cell_type": "code",
      "execution_count": null,
      "metadata": {
        "colab": {
          "base_uri": "https://localhost:8080/"
        },
        "id": "qXY5hJkyVNKQ",
        "outputId": "52005c20-d806-44b4-b099-bfb06bd3f572"
      },
      "outputs": [
        {
          "name": "stdout",
          "output_type": "stream",
          "text": [
            "5\n",
            "6.0\n",
            "5.5\n",
            "5.5\n",
            "2\n",
            "1\n",
            "ashishjangra\n"
          ]
        }
      ],
      "source": [
        "print(2 + 3)\n",
        "print(2.5 + 3.5)\n",
        "print(2.5 + 3)\n",
        "print(2.5 + 3)\n",
        "print(True + True)\n",
        "print(True + False)\n",
        "print('ashish' + 'jangra')"
      ]
    },
    {
      "cell_type": "markdown",
      "metadata": {
        "id": "06NEzYYrWsqR"
      },
      "source": [
        "b). subtraction"
      ]
    },
    {
      "cell_type": "code",
      "execution_count": 1,
      "metadata": {
        "colab": {
          "base_uri": "https://localhost:8080/"
        },
        "id": "L3F32Yl_TNDY",
        "outputId": "4a51afa6-b74f-4834-995a-0d7ab201dcc6"
      },
      "outputs": [
        {
          "output_type": "stream",
          "name": "stdout",
          "text": [
            "-1\n",
            "-1.0\n",
            "-0.5\n",
            "-0.5\n",
            "0\n",
            "1\n"
          ]
        }
      ],
      "source": [
        "print(2 - 3)\n",
        "print(2.5 - 3.5)\n",
        "print(2.5 - 3)\n",
        "print(2.5 - 3)\n",
        "print(True - True)\n",
        "print(True - False)"
      ]
    },
    {
      "cell_type": "markdown",
      "metadata": {
        "id": "J1wgoruuW_iZ"
      },
      "source": [
        "c). multiplication"
      ]
    },
    {
      "cell_type": "code",
      "execution_count": null,
      "metadata": {
        "colab": {
          "base_uri": "https://localhost:8080/"
        },
        "id": "3jM3kuooW2ne",
        "outputId": "af99927e-5bb9-4761-ee59-08a5f5b31865"
      },
      "outputs": [
        {
          "name": "stdout",
          "output_type": "stream",
          "text": [
            "6\n",
            "8.75\n",
            "5.5\n",
            "1\n",
            "0\n",
            "------\n"
          ]
        }
      ],
      "source": [
        "print(2 * 3)\n",
        "print(2.5 *  3.5)\n",
        "print(2.5 + 3)\n",
        "print(True * True)\n",
        "print(True * False)\n",
        "print('------')"
      ]
    },
    {
      "cell_type": "markdown",
      "metadata": {
        "id": "lc4iWQ_IXqIu"
      },
      "source": [
        "d). division"
      ]
    },
    {
      "cell_type": "code",
      "execution_count": null,
      "metadata": {
        "colab": {
          "base_uri": "https://localhost:8080/"
        },
        "id": "raXp_sE7XRz4",
        "outputId": "4780da29-d242-4408-a9e0-85fa006d0aa1"
      },
      "outputs": [
        {
          "name": "stdout",
          "output_type": "stream",
          "text": [
            "0.6666666666666666\n",
            "0.7142857142857143\n",
            "0.8333333333333334\n"
          ]
        }
      ],
      "source": [
        "print(2 / 3)\n",
        "print(2.5 /  3.5)\n",
        "print(2.5 / 3)"
      ]
    },
    {
      "cell_type": "markdown",
      "metadata": {
        "id": "4KDboE4WX4iM"
      },
      "source": [
        "e). floor division"
      ]
    },
    {
      "cell_type": "code",
      "execution_count": null,
      "metadata": {
        "colab": {
          "base_uri": "https://localhost:8080/"
        },
        "id": "q-WYvbntXyta",
        "outputId": "388d7f75-7204-446b-9490-2e6f09d770cb"
      },
      "outputs": [
        {
          "name": "stdout",
          "output_type": "stream",
          "text": [
            "0\n",
            "0.0\n",
            "2.0\n"
          ]
        }
      ],
      "source": [
        "print(2 // 3)\n",
        "print(2.5 // 5.0)\n",
        "print(2.5 // 1)"
      ]
    },
    {
      "cell_type": "markdown",
      "metadata": {
        "id": "-pWj9RnRYcDR"
      },
      "source": [
        "f). modulo"
      ]
    },
    {
      "cell_type": "code",
      "execution_count": null,
      "metadata": {
        "colab": {
          "base_uri": "https://localhost:8080/"
        },
        "id": "mhDEvA82YF5k",
        "outputId": "8b5a67aa-d142-4c6d-f246-b6d01b9ed301"
      },
      "outputs": [
        {
          "name": "stdout",
          "output_type": "stream",
          "text": [
            "1\n",
            "2.5\n",
            "0.5\n"
          ]
        }
      ],
      "source": [
        "print(3 % 2)\n",
        "print(2.5 % 5.0)\n",
        "print(2.5 % 1)\n"
      ]
    },
    {
      "cell_type": "markdown",
      "metadata": {
        "id": "U1v0lWuCYwhH"
      },
      "source": [
        "g). exponentiation"
      ]
    },
    {
      "cell_type": "code",
      "execution_count": null,
      "metadata": {
        "colab": {
          "base_uri": "https://localhost:8080/"
        },
        "id": "iglVmgIwYmfo",
        "outputId": "29fa17ef-230b-4177-9e1d-9db1e41cf875"
      },
      "outputs": [
        {
          "name": "stdout",
          "output_type": "stream",
          "text": [
            "9\n",
            "97.65625\n",
            "2.5\n"
          ]
        }
      ],
      "source": [
        "print(3 ** 2)\n",
        "print(2.5 ** 5.0)\n",
        "print(2.5 ** 1)"
      ]
    },
    {
      "cell_type": "markdown",
      "metadata": {
        "id": "oSk1wYXVZC9c"
      },
      "source": [
        "h). absolute"
      ]
    },
    {
      "cell_type": "code",
      "execution_count": null,
      "metadata": {
        "colab": {
          "base_uri": "https://localhost:8080/"
        },
        "id": "_JnabsWVY6x6",
        "outputId": "f4e2a5ff-ab5e-48f5-8ebb-e0acf2d4bc59"
      },
      "outputs": [
        {
          "name": "stdout",
          "output_type": "stream",
          "text": [
            "3.5\n",
            "35\n"
          ]
        }
      ],
      "source": [
        "print(abs(-3.5))\n",
        "print(abs(-35))"
      ]
    },
    {
      "cell_type": "markdown",
      "metadata": {
        "id": "nQgkiSTVZRIO"
      },
      "source": [
        "i). round"
      ]
    },
    {
      "cell_type": "code",
      "execution_count": null,
      "metadata": {
        "colab": {
          "base_uri": "https://localhost:8080/"
        },
        "id": "SRIql6coZLIb",
        "outputId": "25a11c56-611a-4de2-c092-cbb69aea3893"
      },
      "outputs": [
        {
          "name": "stdout",
          "output_type": "stream",
          "text": [
            "3.4235\n"
          ]
        }
      ],
      "source": [
        "print(round(3.42349238, 4))"
      ]
    },
    {
      "cell_type": "markdown",
      "metadata": {
        "id": "Xk53MvTlZZbu"
      },
      "source": [
        "j). power"
      ]
    },
    {
      "cell_type": "code",
      "execution_count": null,
      "metadata": {
        "colab": {
          "base_uri": "https://localhost:8080/"
        },
        "id": "IyLB1f3PZOrZ",
        "outputId": "81ee65cf-5388-43ef-9c05-2b707229de75"
      },
      "outputs": [
        {
          "name": "stdout",
          "output_type": "stream",
          "text": [
            "243\n",
            "125\n"
          ]
        }
      ],
      "source": [
        "print(pow(3,5))\n",
        "print(pow(5,3))"
      ]
    },
    {
      "cell_type": "markdown",
      "metadata": {
        "id": "0GvbPez3ZpGh"
      },
      "source": [
        "7). comparison operators"
      ]
    },
    {
      "cell_type": "markdown",
      "metadata": {
        "id": "9Vf7WmCVZ1P6"
      },
      "source": [
        "a). =="
      ]
    },
    {
      "cell_type": "code",
      "execution_count": null,
      "metadata": {
        "colab": {
          "base_uri": "https://localhost:8080/"
        },
        "id": "nO__Fr3EZevI",
        "outputId": "5b49f138-bf4d-4038-c61f-c57f076a2d1c"
      },
      "outputs": [
        {
          "name": "stdout",
          "output_type": "stream",
          "text": [
            "False\n",
            "True\n",
            "False\n",
            "False\n",
            "False\n"
          ]
        }
      ],
      "source": [
        "print(1 == 2)\n",
        "print(1.0 == 1)\n",
        "print('a' == 'A')\n",
        "print('True' == 1)\n",
        "print('False' == 0)"
      ]
    },
    {
      "cell_type": "markdown",
      "metadata": {
        "id": "j4FmjU_aaWN8"
      },
      "source": [
        "b). !="
      ]
    },
    {
      "cell_type": "code",
      "execution_count": null,
      "metadata": {
        "colab": {
          "base_uri": "https://localhost:8080/"
        },
        "id": "IuOMUzO3ZylR",
        "outputId": "14f17255-7a1b-476e-e745-88cdfe3ca883"
      },
      "outputs": [
        {
          "name": "stdout",
          "output_type": "stream",
          "text": [
            "True\n",
            "False\n",
            "True\n",
            "True\n",
            "True\n"
          ]
        }
      ],
      "source": [
        "print(1 != 2)\n",
        "print(1.0 != 1)\n",
        "print('a' != 'A')\n",
        "print('True' != 1)\n",
        "print('False' != 0)"
      ]
    },
    {
      "cell_type": "markdown",
      "metadata": {
        "id": "fxjfYU_ualEx"
      },
      "source": [
        "c). >"
      ]
    },
    {
      "cell_type": "code",
      "execution_count": null,
      "metadata": {
        "colab": {
          "base_uri": "https://localhost:8080/"
        },
        "id": "BO5vIrJWagxM",
        "outputId": "6448aeba-f121-46bc-e35b-8c5187a9d937"
      },
      "outputs": [
        {
          "name": "stdout",
          "output_type": "stream",
          "text": [
            "False\n",
            "False\n",
            "True\n",
            "False\n",
            "False\n"
          ]
        }
      ],
      "source": [
        "print(1 > 2)\n",
        "print(1.0 > 1)\n",
        "print('a' > 'A')\n",
        "print(True > 1)\n",
        "print(False > 0)"
      ]
    },
    {
      "cell_type": "markdown",
      "metadata": {
        "id": "MhYcxYaSa-k-"
      },
      "source": [
        "d). <"
      ]
    },
    {
      "cell_type": "code",
      "execution_count": null,
      "metadata": {
        "colab": {
          "base_uri": "https://localhost:8080/"
        },
        "id": "Hy0Z5osyawOy",
        "outputId": "b171e8c6-30d0-40bf-cd2e-5391f938e58e"
      },
      "outputs": [
        {
          "name": "stdout",
          "output_type": "stream",
          "text": [
            "True\n",
            "False\n",
            "False\n",
            "False\n",
            "False\n"
          ]
        }
      ],
      "source": [
        "print(1 < 2)\n",
        "print(1.0 < 1)\n",
        "print('a' < 'A')\n",
        "print(True < 1)\n",
        "print(False < 0)"
      ]
    },
    {
      "cell_type": "markdown",
      "metadata": {
        "id": "omuHLN21bMu3"
      },
      "source": [
        "e). <="
      ]
    },
    {
      "cell_type": "code",
      "execution_count": null,
      "metadata": {
        "colab": {
          "base_uri": "https://localhost:8080/"
        },
        "id": "9fMuEo9bbGae",
        "outputId": "84f32df1-699d-4f8d-c87e-199c7d215f66"
      },
      "outputs": [
        {
          "name": "stdout",
          "output_type": "stream",
          "text": [
            "True\n",
            "True\n",
            "False\n",
            "True\n",
            "True\n"
          ]
        }
      ],
      "source": [
        "print(1 <= 2)\n",
        "print(1.0 <= 1)\n",
        "print('a' <= 'A')\n",
        "print(True <= 1)\n",
        "print(False <= 0)"
      ]
    },
    {
      "cell_type": "markdown",
      "metadata": {
        "id": "TbOWrxJFbf95"
      },
      "source": [
        "f). >="
      ]
    },
    {
      "cell_type": "code",
      "execution_count": null,
      "metadata": {
        "colab": {
          "base_uri": "https://localhost:8080/"
        },
        "id": "XX4R_qNqbaTx",
        "outputId": "2d6178ca-84f2-43b0-8500-1bbefe7812d0"
      },
      "outputs": [
        {
          "name": "stdout",
          "output_type": "stream",
          "text": [
            "False\n",
            "True\n",
            "True\n",
            "True\n",
            "True\n"
          ]
        }
      ],
      "source": [
        "print(1 >= 2)\n",
        "print(1.0 >= 1)\n",
        "print('a' >= 'A')\n",
        "print(True >= 1)\n",
        "print(False >= 0)"
      ]
    },
    {
      "cell_type": "markdown",
      "metadata": {
        "id": "08Er6Ugdbroj"
      },
      "source": [
        "8). logical operators"
      ]
    },
    {
      "cell_type": "markdown",
      "metadata": {
        "id": "d5kW7ETpbxa1"
      },
      "source": [
        "a). and"
      ]
    },
    {
      "cell_type": "code",
      "execution_count": null,
      "metadata": {
        "colab": {
          "base_uri": "https://localhost:8080/"
        },
        "id": "6jNshFmgbodE",
        "outputId": "51a4f73e-4b0f-4492-e1fd-95f6bd98affd"
      },
      "outputs": [
        {
          "name": "stdout",
          "output_type": "stream",
          "text": [
            "True\n",
            "False\n",
            "False\n",
            "False\n"
          ]
        }
      ],
      "source": [
        "print(True and True)\n",
        "print(False and True)\n",
        "print(True and False)\n",
        "print(False and False)\n"
      ]
    },
    {
      "cell_type": "markdown",
      "metadata": {
        "id": "Ee67Dns_cVnO"
      },
      "source": [
        "b). or"
      ]
    },
    {
      "cell_type": "code",
      "execution_count": null,
      "metadata": {
        "colab": {
          "base_uri": "https://localhost:8080/"
        },
        "id": "-TDTFYQzcUIs",
        "outputId": "630c7749-9cc1-4044-fd5c-52c58a74e214"
      },
      "outputs": [
        {
          "name": "stdout",
          "output_type": "stream",
          "text": [
            "True\n",
            "True\n",
            "True\n",
            "False\n"
          ]
        }
      ],
      "source": [
        "print(True or True)\n",
        "print(False or True)\n",
        "print(True or False)\n",
        "print(False or False)"
      ]
    },
    {
      "cell_type": "markdown",
      "metadata": {
        "id": "0xHk2MLTcfG5"
      },
      "source": [
        "c). not"
      ]
    },
    {
      "cell_type": "code",
      "execution_count": null,
      "metadata": {
        "colab": {
          "base_uri": "https://localhost:8080/"
        },
        "id": "PNVKffAMcc5t",
        "outputId": "d66d6086-7c20-4d26-87f7-e43e905aa7c9"
      },
      "outputs": [
        {
          "name": "stdout",
          "output_type": "stream",
          "text": [
            "False\n",
            "True\n"
          ]
        }
      ],
      "source": [
        "print( not True)\n",
        "print( not False)\n"
      ]
    },
    {
      "cell_type": "code",
      "execution_count": null,
      "metadata": {
        "colab": {
          "base_uri": "https://localhost:8080/"
        },
        "id": "vpJDsa0vcnTE",
        "outputId": "bdea0fb8-3525-423d-d6f5-9b62077fa754"
      },
      "outputs": [
        {
          "name": "stdout",
          "output_type": "stream",
          "text": [
            "Enter a number: 24\n",
            "Divisible\n"
          ]
        }
      ],
      "source": [
        "n = int(input('Enter a number: '))\n",
        "\n",
        "if (n>=0) and (n<=100) or ((n%5==0) or (n%7==0)) or (n%9==0):\n",
        "  print('Divisible')\n",
        "\n",
        "else:\n",
        "  print('not divisible')"
      ]
    },
    {
      "cell_type": "markdown",
      "metadata": {
        "id": "-3gVKSLnNw5s"
      },
      "source": [
        "9). Typecasting\n",
        "#int"
      ]
    },
    {
      "cell_type": "code",
      "execution_count": null,
      "metadata": {
        "colab": {
          "base_uri": "https://localhost:8080/"
        },
        "id": "FM740LeoN4Ps",
        "outputId": "b8336af8-ee0a-4cb3-f817-8d68392861d7"
      },
      "outputs": [
        {
          "name": "stdout",
          "output_type": "stream",
          "text": [
            "-----------------\n",
            "3.14\n",
            "3\n",
            "10\n",
            "0\n"
          ]
        }
      ],
      "source": [
        "print('-----------------')\n",
        "print(3.14)\n",
        "print(int(3.14))\n",
        "print(int(' 10 '))\n",
        "print(int(False))"
      ]
    },
    {
      "cell_type": "markdown",
      "metadata": {
        "id": "G9uy91_tN3db"
      },
      "source": [
        "#float"
      ]
    },
    {
      "cell_type": "code",
      "execution_count": null,
      "metadata": {
        "colab": {
          "base_uri": "https://localhost:8080/"
        },
        "id": "0yvAHyWlOyLL",
        "outputId": "85fa5f0e-c3a0-4a1b-a883-f1f161b09578"
      },
      "outputs": [
        {
          "name": "stdout",
          "output_type": "stream",
          "text": [
            "-----------------\n",
            "3.0\n",
            "1.0\n",
            "10.5\n"
          ]
        }
      ],
      "source": [
        "print('-----------------')\n",
        "print(float(3))\n",
        "print(float(True))\n",
        "print(float('10.5'))"
      ]
    },
    {
      "cell_type": "markdown",
      "metadata": {
        "id": "Gt5Q2jyuPEe-"
      },
      "source": [
        "#str"
      ]
    },
    {
      "cell_type": "code",
      "execution_count": null,
      "metadata": {
        "colab": {
          "base_uri": "https://localhost:8080/"
        },
        "id": "MZVFFxssPGk6",
        "outputId": "c6cd994c-b207-4c41-a079-9802392e41c1"
      },
      "outputs": [
        {
          "name": "stdout",
          "output_type": "stream",
          "text": [
            "-----------------\n",
            "123\n",
            "123.33\n",
            "True\n"
          ]
        }
      ],
      "source": [
        "print('-----------------')\n",
        "print(str(123))\n",
        "print(str(123.33))\n",
        "print(str(True))"
      ]
    },
    {
      "cell_type": "markdown",
      "metadata": {
        "id": "6epjXiH8PVak"
      },
      "source": [
        "#bool"
      ]
    },
    {
      "cell_type": "code",
      "execution_count": null,
      "metadata": {
        "colab": {
          "base_uri": "https://localhost:8080/"
        },
        "id": "_C99pU80PXw-",
        "outputId": "58d56e6b-28de-4819-b863-6220f1f91aa0"
      },
      "outputs": [
        {
          "name": "stdout",
          "output_type": "stream",
          "text": [
            "-----------------\n",
            "True\n",
            "True\n",
            "True\n",
            "False\n",
            "False\n",
            "True\n",
            "False\n",
            "True\n"
          ]
        }
      ],
      "source": [
        "print('-----------------')\n",
        "print(bool(1))\n",
        "print(bool(100000))\n",
        "print(bool(-1211))\n",
        "print(bool(0))\n",
        "print(bool(0.0))\n",
        "print(bool(1234.56))\n",
        "print(bool(\"\"))\n",
        "print(bool('g'))"
      ]
    },
    {
      "cell_type": "markdown",
      "metadata": {
        "id": "aS9TMDSHP-x9"
      },
      "source": [
        "#exceptions"
      ]
    },
    {
      "cell_type": "code",
      "execution_count": null,
      "metadata": {
        "colab": {
          "base_uri": "https://localhost:8080/"
        },
        "id": "OTNtu3G-QEEn",
        "outputId": "0e2c284d-24e5-404b-a7a1-dca381b920e2"
      },
      "outputs": [
        {
          "name": "stdout",
          "output_type": "stream",
          "text": [
            "----------\n",
            "3\n"
          ]
        }
      ],
      "source": [
        "print('----------')\n",
        "print(int(float('3.14')))\n",
        "print(float(int(3.14)))"
      ]
    },
    {
      "cell_type": "code",
      "execution_count": null,
      "metadata": {
        "id": "A18jscSqfskY"
      },
      "outputs": [],
      "source": []
    }
  ],
  "metadata": {
    "colab": {
      "provenance": []
    },
    "kernelspec": {
      "display_name": "Python 3",
      "name": "python3"
    },
    "language_info": {
      "name": "python"
    }
  },
  "nbformat": 4,
  "nbformat_minor": 0
}