{
  "nbformat": 4,
  "nbformat_minor": 0,
  "metadata": {
    "colab": {
      "provenance": []
    },
    "kernelspec": {
      "name": "python3",
      "display_name": "Python 3"
    },
    "language_info": {
      "name": "python"
    }
  },
  "cells": [
    {
      "cell_type": "markdown",
      "source": [
        "square all the elements in the list"
      ],
      "metadata": {
        "id": "uyzPFH0LJEJa"
      }
    },
    {
      "cell_type": "code",
      "execution_count": 2,
      "metadata": {
        "colab": {
          "base_uri": "https://localhost:8080/"
        },
        "id": "MQmLYZnkIbi3",
        "outputId": "38e21b10-914e-4044-f399-ae98dd141623"
      },
      "outputs": [
        {
          "output_type": "stream",
          "name": "stdout",
          "text": [
            "[1, 2, 3, 4, 5, 6]\n",
            "[1, 4, 9, 16, 25, 36]\n",
            "[1, 16, 81, 256, 625, 1296]\n"
          ]
        }
      ],
      "source": [
        "lst = [1,2,3,4,5,6]\n",
        "print(lst)\n",
        "lst = [i**2 for i in lst]\n",
        "print(lst)\n",
        "lst = [i**2 for i in lst]\n",
        "print(lst)"
      ]
    },
    {
      "cell_type": "markdown",
      "source": [
        "finding first 10 even numbers"
      ],
      "metadata": {
        "id": "H-IJw-EwKJnY"
      }
    },
    {
      "cell_type": "code",
      "source": [
        "print([i for i in range(21) if i%2 == 0])"
      ],
      "metadata": {
        "colab": {
          "base_uri": "https://localhost:8080/"
        },
        "id": "bdjv_mRtJX7Z",
        "outputId": "0ffc23e0-f705-4998-d457-4995a1ef609f"
      },
      "execution_count": 6,
      "outputs": [
        {
          "output_type": "stream",
          "name": "stdout",
          "text": [
            "[0, 2, 4, 6, 8, 10, 12, 14, 16, 18, 20]\n"
          ]
        }
      ]
    },
    {
      "cell_type": "markdown",
      "source": [
        "finding first 10 even numbers and sq it"
      ],
      "metadata": {
        "id": "Qwu1_AfGLyMy"
      }
    },
    {
      "cell_type": "code",
      "source": [
        "print([i**2 for i in range(21) if i%2 == 0])"
      ],
      "metadata": {
        "colab": {
          "base_uri": "https://localhost:8080/"
        },
        "id": "_Ls37SPaLUpW",
        "outputId": "d52ddb7e-062c-453e-9200-94fc63481c94"
      },
      "execution_count": 7,
      "outputs": [
        {
          "output_type": "stream",
          "name": "stdout",
          "text": [
            "[0, 4, 16, 36, 64, 100, 144, 196, 256, 324, 400]\n"
          ]
        }
      ]
    },
    {
      "cell_type": "markdown",
      "source": [
        "multi-dimensional list"
      ],
      "metadata": {
        "id": "AF6XOilYMNHr"
      }
    },
    {
      "cell_type": "code",
      "source": [
        "print([[j for j in range(5)] for i in range(3)])"
      ],
      "metadata": {
        "colab": {
          "base_uri": "https://localhost:8080/"
        },
        "id": "e_70dZr8MDRb",
        "outputId": "78c2cc6b-0999-4236-9823-e0af36c4e303"
      },
      "execution_count": 9,
      "outputs": [
        {
          "output_type": "stream",
          "name": "stdout",
          "text": [
            "[[0, 1, 2, 3, 4], [0, 1, 2, 3, 4], [0, 1, 2, 3, 4]]\n"
          ]
        }
      ]
    },
    {
      "cell_type": "code",
      "source": [
        "lst = [[j for j in range(1,4)] for i in range(3)]\n",
        "print([[j for j in range(1,4)] for i in range(3)])"
      ],
      "metadata": {
        "colab": {
          "base_uri": "https://localhost:8080/"
        },
        "id": "YDPKV_gvM_dC",
        "outputId": "970ae97a-2aac-4661-ab4e-3e997d703acc"
      },
      "execution_count": 19,
      "outputs": [
        {
          "output_type": "stream",
          "name": "stdout",
          "text": [
            "[[1, 2, 3], [1, 2, 3], [1, 2, 3]]\n"
          ]
        }
      ]
    },
    {
      "cell_type": "markdown",
      "source": [
        "accessing all the elements of list"
      ],
      "metadata": {
        "id": "ltAaO8HBN4xx"
      }
    },
    {
      "cell_type": "code",
      "source": [
        "print(lst)\n",
        "print([num for row in lst for num in row])"
      ],
      "metadata": {
        "colab": {
          "base_uri": "https://localhost:8080/"
        },
        "id": "KquZSU2OOaMn",
        "outputId": "92d8aff5-0f45-4830-f9cd-144f325cdba5"
      },
      "execution_count": 20,
      "outputs": [
        {
          "output_type": "stream",
          "name": "stdout",
          "text": [
            "[[1, 2, 3], [1, 2, 3], [1, 2, 3]]\n",
            "[1, 2, 3, 1, 2, 3, 1, 2, 3]\n"
          ]
        }
      ]
    },
    {
      "cell_type": "code",
      "source": [],
      "metadata": {
        "id": "wnd21yvQO7HM"
      },
      "execution_count": null,
      "outputs": []
    }
  ]
}