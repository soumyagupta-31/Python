{
  "nbformat": 4,
  "nbformat_minor": 0,
  "metadata": {
    "colab": {
      "provenance": []
    },
    "kernelspec": {
      "name": "python3",
      "display_name": "Python 3"
    },
    "language_info": {
      "name": "python"
    }
  },
  "cells": [
    {
      "cell_type": "markdown",
      "source": [
        "# Datastructures"
      ],
      "metadata": {
        "id": "1NvTk7SmkS4s"
      }
    },
    {
      "cell_type": "markdown",
      "source": [
        "a) List"
      ],
      "metadata": {
        "id": "8Pr6zMsnoRer"
      }
    },
    {
      "cell_type": "code",
      "execution_count": 2,
      "metadata": {
        "colab": {
          "base_uri": "https://localhost:8080/"
        },
        "id": "LolurbgokRy2",
        "outputId": "05bee608-4eab-4f2e-8c88-8f12cbbbf265"
      },
      "outputs": [
        {
          "output_type": "stream",
          "name": "stdout",
          "text": [
            "['ashish', 'ankur', 'riya', 'adarsh', 'parag', 'avneet']\n"
          ]
        }
      ],
      "source": [
        "lst = ['ashish' , 'ankur', 'riya', 'adarsh', 'parag', 'avneet']\n",
        "\n",
        "print(lst)"
      ]
    },
    {
      "cell_type": "markdown",
      "source": [
        "access the elements through indexing"
      ],
      "metadata": {
        "id": "wpSOUg1so2u6"
      }
    },
    {
      "cell_type": "code",
      "source": [
        "lst = ['ashish' , 'ankur', 'riya', 'adarsh', 'parag', 'avneet']\n",
        "\n",
        "print(lst[0])\n",
        "print(lst[4])\n",
        "print(lst[-2])\n",
        "print(lst)\n"
      ],
      "metadata": {
        "colab": {
          "base_uri": "https://localhost:8080/"
        },
        "id": "fD85Tpb4on4F",
        "outputId": "9586c156-958b-4bc8-a515-6a922e0eb101"
      },
      "execution_count": 5,
      "outputs": [
        {
          "output_type": "stream",
          "name": "stdout",
          "text": [
            "ashish\n",
            "parag\n",
            "parag\n",
            "['ashish', 'ankur', 'riya', 'adarsh', 'parag', 'avneet']\n"
          ]
        }
      ]
    },
    {
      "cell_type": "markdown",
      "source": [
        "modify values"
      ],
      "metadata": {
        "id": "YVhMS1QJpard"
      }
    },
    {
      "cell_type": "code",
      "source": [
        "lst[2] = 'sakshi'\n",
        "print(lst)"
      ],
      "metadata": {
        "colab": {
          "base_uri": "https://localhost:8080/"
        },
        "id": "7dFkytkmpPpe",
        "outputId": "f77c7bd9-dd05-4efe-b673-d4378bf1deb4"
      },
      "execution_count": 6,
      "outputs": [
        {
          "output_type": "stream",
          "name": "stdout",
          "text": [
            "['ashish', 'ankur', 'sakshi', 'adarsh', 'parag', 'avneet']\n"
          ]
        }
      ]
    },
    {
      "cell_type": "markdown",
      "source": [
        "slicing"
      ],
      "metadata": {
        "id": "stei4XOtpzfI"
      }
    },
    {
      "cell_type": "code",
      "source": [
        "print(lst[1:4])"
      ],
      "metadata": {
        "colab": {
          "base_uri": "https://localhost:8080/"
        },
        "id": "IP1xT5FVpmc9",
        "outputId": "8fd0a734-e6c6-4256-bd9a-8cb09c664414"
      },
      "execution_count": 7,
      "outputs": [
        {
          "output_type": "stream",
          "name": "stdout",
          "text": [
            "['ankur', 'sakshi', 'adarsh']\n"
          ]
        }
      ]
    },
    {
      "cell_type": "markdown",
      "source": [
        "reverse a string"
      ],
      "metadata": {
        "id": "fRsjEMu_p8Ry"
      }
    },
    {
      "cell_type": "code",
      "source": [
        "print(lst[::-1])\n",
        "print(lst[::-2])"
      ],
      "metadata": {
        "colab": {
          "base_uri": "https://localhost:8080/"
        },
        "id": "fkyCsGJHp4EJ",
        "outputId": "3b0dbfa1-3bee-44bf-8bbe-9f7acb450f4a"
      },
      "execution_count": 9,
      "outputs": [
        {
          "output_type": "stream",
          "name": "stdout",
          "text": [
            "['avneet', 'parag', 'adarsh', 'sakshi', 'ankur', 'ashish']\n",
            "['avneet', 'adarsh', 'ankur']\n"
          ]
        }
      ]
    },
    {
      "cell_type": "markdown",
      "source": [
        "appending"
      ],
      "metadata": {
        "id": "bXPdsz9RqErS"
      }
    },
    {
      "cell_type": "code",
      "source": [
        "print(lst)\n",
        "lst.append('ankit')\n",
        "print(lst)"
      ],
      "metadata": {
        "colab": {
          "base_uri": "https://localhost:8080/"
        },
        "id": "wAQC1Ry_qCdZ",
        "outputId": "58d25949-0c9f-465c-bae6-cd35e9bc4e64"
      },
      "execution_count": 10,
      "outputs": [
        {
          "output_type": "stream",
          "name": "stdout",
          "text": [
            "['ashish', 'ankur', 'sakshi', 'adarsh', 'parag', 'avneet']\n",
            "['ashish', 'ankur', 'sakshi', 'adarsh', 'parag', 'avneet', 'ankit']\n"
          ]
        }
      ]
    },
    {
      "cell_type": "markdown",
      "source": [
        "removing"
      ],
      "metadata": {
        "id": "KWQ7T5Gqqgge"
      }
    },
    {
      "cell_type": "code",
      "source": [
        "print(lst)\n",
        "lst.remove('ankit')\n",
        "print(lst)"
      ],
      "metadata": {
        "colab": {
          "base_uri": "https://localhost:8080/"
        },
        "id": "KVqUT0gvqeqr",
        "outputId": "d91b5826-216a-4499-f8b5-5387c9c0b9de"
      },
      "execution_count": 11,
      "outputs": [
        {
          "output_type": "stream",
          "name": "stdout",
          "text": [
            "['ashish', 'ankur', 'sakshi', 'adarsh', 'parag', 'avneet', 'ankit']\n",
            "['ashish', 'ankur', 'sakshi', 'adarsh', 'parag', 'avneet']\n"
          ]
        }
      ]
    },
    {
      "cell_type": "markdown",
      "source": [
        "length"
      ],
      "metadata": {
        "id": "HUuVCxHyqxMH"
      }
    },
    {
      "cell_type": "code",
      "source": [
        "print(lst)\n",
        "print(len(lst))"
      ],
      "metadata": {
        "colab": {
          "base_uri": "https://localhost:8080/"
        },
        "id": "DHNurGjNqn2o",
        "outputId": "a3723dde-40d6-4a71-af54-81add94a3680"
      },
      "execution_count": 12,
      "outputs": [
        {
          "output_type": "stream",
          "name": "stdout",
          "text": [
            "['ashish', 'ankur', 'sakshi', 'adarsh', 'parag', 'avneet']\n",
            "6\n"
          ]
        }
      ]
    },
    {
      "cell_type": "markdown",
      "source": [
        "sorting"
      ],
      "metadata": {
        "id": "P4f3KSh2q66P"
      }
    },
    {
      "cell_type": "code",
      "source": [
        "lst = [1,3,4,5,7,4,7,20,43]\n",
        "print(lst)\n",
        "print(sorted(lst))\n"
      ],
      "metadata": {
        "colab": {
          "base_uri": "https://localhost:8080/"
        },
        "id": "rFAL9jhRq6Lt",
        "outputId": "192b3c8a-d745-4434-e7f2-0744f0d848f3"
      },
      "execution_count": 14,
      "outputs": [
        {
          "output_type": "stream",
          "name": "stdout",
          "text": [
            "[1, 3, 4, 5, 7, 4, 7, 20, 43]\n",
            "[1, 3, 4, 4, 5, 7, 7, 20, 43]\n"
          ]
        }
      ]
    },
    {
      "cell_type": "markdown",
      "source": [
        "find the element"
      ],
      "metadata": {
        "id": "gVh0vE-urUXU"
      }
    },
    {
      "cell_type": "code",
      "source": [
        "lst = ['ashish' , 'ankur', 'riya', 'adarsh', 'parag', 'avneet']\n",
        "print(lst.index('ashish'))"
      ],
      "metadata": {
        "colab": {
          "base_uri": "https://localhost:8080/"
        },
        "id": "1zEEFkqjrKsM",
        "outputId": "24e04847-b054-417c-a091-73368b45f1ec"
      },
      "execution_count": 15,
      "outputs": [
        {
          "output_type": "stream",
          "name": "stdout",
          "text": [
            "0\n"
          ]
        }
      ]
    },
    {
      "cell_type": "markdown",
      "source": [
        "count"
      ],
      "metadata": {
        "id": "l-9C1az6rVz8"
      }
    },
    {
      "cell_type": "code",
      "source": [
        "lst = ['ashish' , 'ankur', 'riya', 'adarsh', 'parag', 'avneet']\n",
        "print(lst.count('adarsh'))"
      ],
      "metadata": {
        "colab": {
          "base_uri": "https://localhost:8080/"
        },
        "id": "-V5L9RQ2r24W",
        "outputId": "94b81c41-0c6e-42e9-868e-4cb69d5d0869"
      },
      "execution_count": 17,
      "outputs": [
        {
          "output_type": "stream",
          "name": "stdout",
          "text": [
            "1\n"
          ]
        }
      ]
    },
    {
      "cell_type": "markdown",
      "source": [
        "extending"
      ],
      "metadata": {
        "id": "AqP4uo0ksDo6"
      }
    },
    {
      "cell_type": "code",
      "source": [
        "lst.extend(['arpita','shambhavi','kritika'])\n",
        "print(lst)"
      ],
      "metadata": {
        "colab": {
          "base_uri": "https://localhost:8080/"
        },
        "id": "4kIV43L0r_Zw",
        "outputId": "dec2fb85-ecff-4a23-b267-3d113aecaaaf"
      },
      "execution_count": 18,
      "outputs": [
        {
          "output_type": "stream",
          "name": "stdout",
          "text": [
            "['ashish', 'ankur', 'riya', 'adarsh', 'parag', 'avneet', 'arpita', 'shambhavi', 'kritika']\n"
          ]
        }
      ]
    },
    {
      "cell_type": "markdown",
      "source": [
        "finding max and min"
      ],
      "metadata": {
        "id": "46tH7-fosUPW"
      }
    },
    {
      "cell_type": "code",
      "source": [
        "lst = [1,3,4,5,7,4,7,20,43]\n",
        "print(lst)\n",
        "print(min(lst))\n",
        "print(max(lst))"
      ],
      "metadata": {
        "colab": {
          "base_uri": "https://localhost:8080/"
        },
        "id": "R_YWn2URsRlt",
        "outputId": "0a168c53-49a9-4dc1-ec02-ff251026f948"
      },
      "execution_count": 19,
      "outputs": [
        {
          "output_type": "stream",
          "name": "stdout",
          "text": [
            "[1, 3, 4, 5, 7, 4, 7, 20, 43]\n",
            "1\n",
            "43\n"
          ]
        }
      ]
    },
    {
      "cell_type": "markdown",
      "source": [
        "iterating the elements of list | direct"
      ],
      "metadata": {
        "id": "jYLMCZQ6sicC"
      }
    },
    {
      "cell_type": "code",
      "source": [
        "print(lst)\n",
        "\n",
        "for i in lst:\n",
        "  print(i)"
      ],
      "metadata": {
        "colab": {
          "base_uri": "https://localhost:8080/"
        },
        "id": "COnpEwsnsgG_",
        "outputId": "4e5f5cbd-7158-464a-c6e8-2a03472e5196"
      },
      "execution_count": 21,
      "outputs": [
        {
          "output_type": "stream",
          "name": "stdout",
          "text": [
            "[1, 3, 4, 5, 7, 4, 7, 20, 43]\n",
            "1\n",
            "3\n",
            "4\n",
            "5\n",
            "7\n",
            "4\n",
            "7\n",
            "20\n",
            "43\n"
          ]
        }
      ]
    },
    {
      "cell_type": "markdown",
      "source": [
        "iterating the elements of list | indexing"
      ],
      "metadata": {
        "id": "mUcUVmFqszMB"
      }
    },
    {
      "cell_type": "code",
      "source": [
        "print(lst)\n",
        "\n",
        "for i in range(len(lst)):\n",
        "  print(i, lst[i])"
      ],
      "metadata": {
        "colab": {
          "base_uri": "https://localhost:8080/"
        },
        "id": "EGkTLTULsvj7",
        "outputId": "0b470dd2-70e2-4162-e975-edf97cbc9af5"
      },
      "execution_count": 22,
      "outputs": [
        {
          "output_type": "stream",
          "name": "stdout",
          "text": [
            "[1, 3, 4, 5, 7, 4, 7, 20, 43]\n",
            "0 1\n",
            "1 3\n",
            "2 4\n",
            "3 5\n",
            "4 7\n",
            "5 4\n",
            "6 7\n",
            "7 20\n",
            "8 43\n"
          ]
        }
      ]
    },
    {
      "cell_type": "markdown",
      "source": [
        "iterating the elements of list in reverse"
      ],
      "metadata": {
        "id": "LcKr-y9it1AI"
      }
    },
    {
      "cell_type": "code",
      "source": [
        "print(lst)\n",
        "\n",
        "for i in range(len(lst)-1, -1,-1):\n",
        "  print(i, lst[i])"
      ],
      "metadata": {
        "colab": {
          "base_uri": "https://localhost:8080/"
        },
        "id": "EFwD9IIFts_T",
        "outputId": "2fce89a9-391f-47e5-9047-550be4aaf0f0"
      },
      "execution_count": 23,
      "outputs": [
        {
          "output_type": "stream",
          "name": "stdout",
          "text": [
            "[1, 3, 4, 5, 7, 4, 7, 20, 43]\n",
            "8 43\n",
            "7 20\n",
            "6 7\n",
            "5 4\n",
            "4 7\n",
            "3 5\n",
            "2 4\n",
            "1 3\n",
            "0 1\n"
          ]
        }
      ]
    },
    {
      "cell_type": "code",
      "source": [],
      "metadata": {
        "id": "1hQYtEbovEfw"
      },
      "execution_count": null,
      "outputs": []
    }
  ]
}