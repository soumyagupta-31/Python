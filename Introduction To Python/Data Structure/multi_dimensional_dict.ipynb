{
  "nbformat": 4,
  "nbformat_minor": 0,
  "metadata": {
    "colab": {
      "provenance": []
    },
    "kernelspec": {
      "name": "python3",
      "display_name": "Python 3"
    },
    "language_info": {
      "name": "python"
    }
  },
  "cells": [
    {
      "cell_type": "code",
      "execution_count": 1,
      "metadata": {
        "colab": {
          "base_uri": "https://localhost:8080/"
        },
        "id": "zZiALWZHAWX2",
        "outputId": "4d73328b-12bd-4497-e133-d2775a412fd3"
      },
      "outputs": [
        {
          "output_type": "stream",
          "name": "stdout",
          "text": [
            "{1: {'name': 'ashish', 'phone': 123456789}, 2: {'name': 'ankur', 'phone': 123459789}}\n"
          ]
        }
      ],
      "source": [
        "dct = { 1 : {'name' : 'ashish', 'phone' : 123456789},\n",
        "        2 : {'name' : 'ankur', 'phone' : 123459789}}\n",
        "\n",
        "print(dct)"
      ]
    },
    {
      "cell_type": "markdown",
      "source": [
        "accessing the elements"
      ],
      "metadata": {
        "id": "YtF3LlYhDdjd"
      }
    },
    {
      "cell_type": "code",
      "source": [
        "print(dct)\n",
        "print(dct[1]['name'])\n",
        "print(dct[2]['name'])"
      ],
      "metadata": {
        "colab": {
          "base_uri": "https://localhost:8080/"
        },
        "id": "ahqITcOoDYdO",
        "outputId": "e793cbdb-5a1c-4fe9-8013-6b5dfb38f3e4"
      },
      "execution_count": 6,
      "outputs": [
        {
          "output_type": "stream",
          "name": "stdout",
          "text": [
            "{1: {'name': 'ashish', 'phone': 123456789}, 2: {'name': 'ankur', 'phone': 123459789}}\n",
            "ashish\n",
            "ankur\n"
          ]
        }
      ]
    },
    {
      "cell_type": "markdown",
      "source": [
        "updating , adding and deleting"
      ],
      "metadata": {
        "id": "UVB2X5v1D-MZ"
      }
    },
    {
      "cell_type": "code",
      "source": [
        "#adding\n",
        "print(dct)\n",
        "dct[3] = {'name' : 'prakash', 'phone' : 5638738486}\n",
        "print(dct)\n",
        "\n",
        "#updating\n",
        "dct[2]['name'] = 'avneet'\n",
        "print(dct)\n",
        "\n",
        "#deleting\n",
        "print(dct)\n",
        "del dct[3]\n",
        "print(dct)"
      ],
      "metadata": {
        "colab": {
          "base_uri": "https://localhost:8080/"
        },
        "id": "7vWQHuywDg6o",
        "outputId": "db0c6937-d2bd-4b03-c07a-a658e7bd5ce9"
      },
      "execution_count": 9,
      "outputs": [
        {
          "output_type": "stream",
          "name": "stdout",
          "text": [
            "{1: {'name': 'ashish', 'phone': 123456789}, 2: {'name': 'avneet', 'phone': 123459789}, 3: {'name': 'prakash', 'phone': 5638738486}}\n",
            "{1: {'name': 'ashish', 'phone': 123456789}, 2: {'name': 'avneet', 'phone': 123459789}, 3: {'name': 'prakash', 'phone': 5638738486}}\n",
            "{1: {'name': 'ashish', 'phone': 123456789}, 2: {'name': 'avneet', 'phone': 123459789}, 3: {'name': 'prakash', 'phone': 5638738486}}\n",
            "{1: {'name': 'ashish', 'phone': 123456789}, 2: {'name': 'avneet', 'phone': 123459789}, 3: {'name': 'prakash', 'phone': 5638738486}}\n",
            "{1: {'name': 'ashish', 'phone': 123456789}, 2: {'name': 'avneet', 'phone': 123459789}}\n"
          ]
        }
      ]
    },
    {
      "cell_type": "markdown",
      "source": [
        "going through the data"
      ],
      "metadata": {
        "id": "P_27nV4JFLnO"
      }
    },
    {
      "cell_type": "code",
      "source": [
        "print(dct)\n",
        "\n",
        "for i in dct.keys():\n",
        "  print(i,dct[i]['name'],dct[i]['phone'])"
      ],
      "metadata": {
        "colab": {
          "base_uri": "https://localhost:8080/"
        },
        "id": "UmzYVEFAEMGW",
        "outputId": "de488cf6-dc31-41ef-db9b-8512f765fe33"
      },
      "execution_count": 12,
      "outputs": [
        {
          "output_type": "stream",
          "name": "stdout",
          "text": [
            "{1: {'name': 'ashish', 'phone': 123456789}, 2: {'name': 'avneet', 'phone': 123459789}}\n",
            "1 ashish 123456789\n",
            "2 avneet 123459789\n"
          ]
        }
      ]
    },
    {
      "cell_type": "markdown",
      "source": [
        "going a level deeper with marks"
      ],
      "metadata": {
        "id": "7URqWF3aFsGY"
      }
    },
    {
      "cell_type": "code",
      "source": [
        "data = {  1 : {'name' : 'ashish', 'phone' : 123456789,\n",
        "               'marks' : {'hin':45, 'mth':42, 'sci':41}},\n",
        "          2 : {'name' : 'ankur', 'phone' : 123459789,\n",
        "               'marks' : {'hin':32, 'mth':38, 'sci':13}}}\n",
        "print(data)\n",
        "\n",
        "for i in data.keys():\n",
        "  print(i,data[i]['name'], data[i]['marks']['hin'])\n"
      ],
      "metadata": {
        "colab": {
          "base_uri": "https://localhost:8080/"
        },
        "id": "EG3YKBEJFYFk",
        "outputId": "c8548ae1-df6e-4c60-ad42-a9f85fb9872b"
      },
      "execution_count": 26,
      "outputs": [
        {
          "output_type": "stream",
          "name": "stdout",
          "text": [
            "{1: {'name': 'ashish', 'phone': 123456789, 'marks': {'hin': 45, 'mth': 42, 'sci': 41}}, 2: {'name': 'ankur', 'phone': 123459789, 'marks': {'hin': 32, 'mth': 38, 'sci': 13}}}\n",
            "1 ashish 45\n",
            "2 ankur 32\n"
          ]
        }
      ]
    },
    {
      "cell_type": "code",
      "source": [],
      "metadata": {
        "id": "Fpja4MvLG0xe"
      },
      "execution_count": null,
      "outputs": []
    }
  ]
}