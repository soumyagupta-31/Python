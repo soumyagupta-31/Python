{
  "nbformat": 4,
  "nbformat_minor": 0,
  "metadata": {
    "colab": {
      "provenance": []
    },
    "kernelspec": {
      "name": "python3",
      "display_name": "Python 3"
    },
    "language_info": {
      "name": "python"
    }
  },
  "cells": [
    {
      "cell_type": "markdown",
      "source": [
        "creating a set"
      ],
      "metadata": {
        "id": "LjfD2C63Ajpm"
      }
    },
    {
      "cell_type": "code",
      "execution_count": 2,
      "metadata": {
        "colab": {
          "base_uri": "https://localhost:8080/"
        },
        "id": "zqroJ5JeAfG1",
        "outputId": "b22a544b-f8ae-48f7-e1f0-85c8cf1c9175"
      },
      "outputs": [
        {
          "output_type": "stream",
          "name": "stdout",
          "text": [
            "{1, 2, 3, 4, 5}\n",
            "<class 'set'>\n"
          ]
        }
      ],
      "source": [
        "my_set = {1,2,3,4,5}\n",
        "print(my_set)\n",
        "print(type(my_set))\n"
      ]
    },
    {
      "cell_type": "markdown",
      "source": [
        "#adding"
      ],
      "metadata": {
        "id": "Fh5L101KA4-y"
      }
    },
    {
      "cell_type": "code",
      "source": [
        "print(my_set)\n",
        "my_set.add(6)\n",
        "print(my_set)"
      ],
      "metadata": {
        "colab": {
          "base_uri": "https://localhost:8080/"
        },
        "id": "Dye9sjNSA3I-",
        "outputId": "4d2f546a-666d-47f6-aa38-bd44cd9b818b"
      },
      "execution_count": 3,
      "outputs": [
        {
          "output_type": "stream",
          "name": "stdout",
          "text": [
            "{1, 2, 3, 4, 5}\n",
            "{1, 2, 3, 4, 5, 6}\n"
          ]
        }
      ]
    },
    {
      "cell_type": "markdown",
      "source": [
        "#pop"
      ],
      "metadata": {
        "id": "hVgL6nrKBHGn"
      }
    },
    {
      "cell_type": "code",
      "source": [
        "print(my_set)\n",
        "popped_element = my_set.pop()\n",
        "print(popped_element)"
      ],
      "metadata": {
        "colab": {
          "base_uri": "https://localhost:8080/"
        },
        "id": "IljbvxRMBKlt",
        "outputId": "f032e4a6-9ca7-4a21-8046-3a4d764965e3"
      },
      "execution_count": 6,
      "outputs": [
        {
          "output_type": "stream",
          "name": "stdout",
          "text": [
            "{2, 3, 4, 5, 6}\n",
            "2\n"
          ]
        }
      ]
    },
    {
      "cell_type": "markdown",
      "source": [
        "#remove"
      ],
      "metadata": {
        "id": "3rFxxdetBHiw"
      }
    },
    {
      "cell_type": "code",
      "source": [
        "print(my_set)\n",
        "my_set.discard(3)\n",
        "print(my_set)"
      ],
      "metadata": {
        "colab": {
          "base_uri": "https://localhost:8080/"
        },
        "id": "iIpJp9WUBFVy",
        "outputId": "fdfca6c6-a3ef-4c83-d069-415164891124"
      },
      "execution_count": 8,
      "outputs": [
        {
          "output_type": "stream",
          "name": "stdout",
          "text": [
            "{4, 5, 6}\n",
            "{4, 5, 6}\n"
          ]
        }
      ]
    },
    {
      "cell_type": "markdown",
      "source": [
        "#iterating"
      ],
      "metadata": {
        "id": "FU55RY9_CF6q"
      }
    },
    {
      "cell_type": "code",
      "source": [
        "print(my_set)\n",
        "for i in my_set:\n",
        "  print(i)"
      ],
      "metadata": {
        "colab": {
          "base_uri": "https://localhost:8080/"
        },
        "id": "RJ5TMMt-BDq-",
        "outputId": "ca629c2d-35c8-4e16-ce19-f1d26003f410"
      },
      "execution_count": 9,
      "outputs": [
        {
          "output_type": "stream",
          "name": "stdout",
          "text": [
            "{4, 5, 6}\n",
            "4\n",
            "5\n",
            "6\n"
          ]
        }
      ]
    },
    {
      "cell_type": "markdown",
      "source": [
        "#checking the value"
      ],
      "metadata": {
        "id": "R8DfwP1BCm1R"
      }
    },
    {
      "cell_type": "code",
      "source": [
        "print(my_set)\n",
        "print(2 in my_set)\n",
        "print(3 in my_set)\n",
        "print(4 in my_set)"
      ],
      "metadata": {
        "colab": {
          "base_uri": "https://localhost:8080/"
        },
        "id": "lNym24RNCQ0O",
        "outputId": "ebec14a5-f1e2-442e-a693-c381b7767293"
      },
      "execution_count": 10,
      "outputs": [
        {
          "output_type": "stream",
          "name": "stdout",
          "text": [
            "{4, 5, 6}\n",
            "False\n",
            "False\n",
            "True\n"
          ]
        }
      ]
    },
    {
      "cell_type": "markdown",
      "source": [
        "#set operations"
      ],
      "metadata": {
        "id": "6Y2ZX8H0CmI_"
      }
    },
    {
      "cell_type": "code",
      "source": [
        "set_1 = {1,2,3,4,5}\n",
        "set_2 = {4,5,6,7,8}\n",
        "print('union : ', set_1 | set_2)\n",
        "print('intersection : ', set_1 & set_2) #common elements\n",
        "print('difference : ', set_1 - set_2)\n",
        "print('difference : ', set_2 - set_1) #unordered\n",
        "print('symetric diff : ', set_1 ^ set_2)"
      ],
      "metadata": {
        "colab": {
          "base_uri": "https://localhost:8080/"
        },
        "id": "Tbc3a7G3Cj-0",
        "outputId": "72c834af-4a21-43a7-a3ea-4bf571cbae64"
      },
      "execution_count": 15,
      "outputs": [
        {
          "output_type": "stream",
          "name": "stdout",
          "text": [
            "union :  {1, 2, 3, 4, 5, 6, 7, 8}\n",
            "intersection :  {4, 5}\n",
            "difference :  {1, 2, 3}\n",
            "difference :  {8, 6, 7}\n",
            "symetric diff :  {1, 2, 3, 6, 7, 8}\n"
          ]
        }
      ]
    },
    {
      "cell_type": "markdown",
      "source": [
        "#other methods"
      ],
      "metadata": {
        "id": "jFn3O2QUDjQJ"
      }
    },
    {
      "cell_type": "code",
      "source": [
        "print(my_set)\n",
        "my_set.clear()\n",
        "print(my_set)"
      ],
      "metadata": {
        "colab": {
          "base_uri": "https://localhost:8080/"
        },
        "id": "9XxLHWaEDitO",
        "outputId": "179245d9-e633-4c79-fe81-5714ebdea90a"
      },
      "execution_count": 16,
      "outputs": [
        {
          "output_type": "stream",
          "name": "stdout",
          "text": [
            "{4, 5, 6}\n",
            "set()\n"
          ]
        }
      ]
    },
    {
      "cell_type": "markdown",
      "source": [
        "#Tuple"
      ],
      "metadata": {
        "id": "8W0w4EjwE44s"
      }
    },
    {
      "cell_type": "markdown",
      "source": [
        "tuple intializing"
      ],
      "metadata": {
        "id": "un180UawFeZ0"
      }
    },
    {
      "cell_type": "code",
      "source": [
        "tpl = (1,2,3,4,5)\n",
        "print(tpl)"
      ],
      "metadata": {
        "colab": {
          "base_uri": "https://localhost:8080/"
        },
        "id": "SDHmbG6lDHi1",
        "outputId": "2dc2a60b-852c-4b73-d038-ed22b0a0cdf7"
      },
      "execution_count": 17,
      "outputs": [
        {
          "output_type": "stream",
          "name": "stdout",
          "text": [
            "(1, 2, 3, 4, 5)\n"
          ]
        }
      ]
    },
    {
      "cell_type": "markdown",
      "source": [
        "accessing"
      ],
      "metadata": {
        "id": "Xh6b5SwjFhla"
      }
    },
    {
      "cell_type": "code",
      "source": [
        "tpl = (1,2,3,4,5)\n",
        "print(tpl[0])\n"
      ],
      "metadata": {
        "colab": {
          "base_uri": "https://localhost:8080/"
        },
        "id": "6FzMB1kJFcSD",
        "outputId": "999a3204-a706-4b27-ec4c-2863869bd91d"
      },
      "execution_count": 18,
      "outputs": [
        {
          "output_type": "stream",
          "name": "stdout",
          "text": [
            "1\n"
          ]
        }
      ]
    },
    {
      "cell_type": "markdown",
      "source": [
        "slicing"
      ],
      "metadata": {
        "id": "C6jucIGyF2nf"
      }
    },
    {
      "cell_type": "code",
      "source": [
        "tpl = (1,2,3,4,5)\n",
        "print(tpl[1:3])"
      ],
      "metadata": {
        "colab": {
          "base_uri": "https://localhost:8080/"
        },
        "id": "BjyeIKcdFv7K",
        "outputId": "686923e7-2606-49e4-f756-bae877394bd2"
      },
      "execution_count": 19,
      "outputs": [
        {
          "output_type": "stream",
          "name": "stdout",
          "text": [
            "(2, 3)\n"
          ]
        }
      ]
    },
    {
      "cell_type": "markdown",
      "source": [
        "concatenate"
      ],
      "metadata": {
        "id": "WfOzmVDbF5xU"
      }
    },
    {
      "cell_type": "code",
      "source": [
        "tpl1 = (1,2,3,4)\n",
        "tpl2 = (4,5,6,7)\n",
        "tpl = tpl1 + tpl2\n",
        "print(tpl)"
      ],
      "metadata": {
        "colab": {
          "base_uri": "https://localhost:8080/"
        },
        "id": "7LO5Mu4-Fzz6",
        "outputId": "b3ade52b-e120-47a5-f83d-b66353db54b7"
      },
      "execution_count": 20,
      "outputs": [
        {
          "output_type": "stream",
          "name": "stdout",
          "text": [
            "(1, 2, 3, 4, 4, 5, 6, 7)\n"
          ]
        }
      ]
    },
    {
      "cell_type": "markdown",
      "source": [
        "iterating"
      ],
      "metadata": {
        "id": "jtewQ8WoGPWG"
      }
    },
    {
      "cell_type": "code",
      "source": [
        "print(tpl)\n",
        "for i in tpl:\n",
        "  print(i)"
      ],
      "metadata": {
        "colab": {
          "base_uri": "https://localhost:8080/"
        },
        "id": "5HxMNot2GLjC",
        "outputId": "817821cd-d7de-4f14-8cba-0a3af90fe6e1"
      },
      "execution_count": 21,
      "outputs": [
        {
          "output_type": "stream",
          "name": "stdout",
          "text": [
            "(1, 2, 3, 4, 4, 5, 6, 7)\n",
            "1\n",
            "2\n",
            "3\n",
            "4\n",
            "4\n",
            "5\n",
            "6\n",
            "7\n"
          ]
        }
      ]
    },
    {
      "cell_type": "markdown",
      "source": [
        "checking the elements"
      ],
      "metadata": {
        "id": "6T1VKyUfGXoj"
      }
    },
    {
      "cell_type": "code",
      "source": [
        "print(tpl)\n",
        "print(2 in tpl)\n",
        "print(3 in tpl)\n",
        "print(4 in tpl)"
      ],
      "metadata": {
        "colab": {
          "base_uri": "https://localhost:8080/"
        },
        "id": "YaRnUFxIGUPP",
        "outputId": "e1ebd60f-9d87-4b50-faf9-00d723ededd0"
      },
      "execution_count": 22,
      "outputs": [
        {
          "output_type": "stream",
          "name": "stdout",
          "text": [
            "(1, 2, 3, 4, 4, 5, 6, 7)\n",
            "True\n",
            "True\n",
            "True\n"
          ]
        }
      ]
    },
    {
      "cell_type": "markdown",
      "source": [
        "checking the count"
      ],
      "metadata": {
        "id": "VH2S49vjGtY9"
      }
    },
    {
      "cell_type": "code",
      "source": [
        "print(tpl)\n",
        "print(tpl.count(4))\n"
      ],
      "metadata": {
        "colab": {
          "base_uri": "https://localhost:8080/"
        },
        "id": "WbOjAcJ8GrSj",
        "outputId": "2dd66faa-3cf0-4712-dd0c-b1c024abfcc7"
      },
      "execution_count": 23,
      "outputs": [
        {
          "output_type": "stream",
          "name": "stdout",
          "text": [
            "(1, 2, 3, 4, 4, 5, 6, 7)\n",
            "2\n"
          ]
        }
      ]
    },
    {
      "cell_type": "markdown",
      "source": [
        "finding the index"
      ],
      "metadata": {
        "id": "WwUcWNqyG52t"
      }
    },
    {
      "cell_type": "code",
      "source": [
        "print(tpl)\n",
        "print(tpl.index(3))"
      ],
      "metadata": {
        "colab": {
          "base_uri": "https://localhost:8080/"
        },
        "id": "D98YdlxTG1gm",
        "outputId": "14a02d21-5d69-4fdb-aa0e-ccfa16cfdf61"
      },
      "execution_count": 24,
      "outputs": [
        {
          "output_type": "stream",
          "name": "stdout",
          "text": [
            "(1, 2, 3, 4, 4, 5, 6, 7)\n",
            "2\n"
          ]
        }
      ]
    },
    {
      "cell_type": "markdown",
      "source": [
        "multiplying the tuple"
      ],
      "metadata": {
        "id": "V0RfoQ3jHC02"
      }
    },
    {
      "cell_type": "code",
      "source": [
        "print(tpl)\n",
        "print(tpl*3) #duplicated 3 times"
      ],
      "metadata": {
        "colab": {
          "base_uri": "https://localhost:8080/"
        },
        "id": "K1T69tdLG_eL",
        "outputId": "906cf7c4-e5be-4bb5-8b92-bef4a2a9ebb6"
      },
      "execution_count": 25,
      "outputs": [
        {
          "output_type": "stream",
          "name": "stdout",
          "text": [
            "(1, 2, 3, 4, 4, 5, 6, 7)\n",
            "(1, 2, 3, 4, 4, 5, 6, 7, 1, 2, 3, 4, 4, 5, 6, 7, 1, 2, 3, 4, 4, 5, 6, 7)\n"
          ]
        }
      ]
    },
    {
      "cell_type": "code",
      "source": [],
      "metadata": {
        "id": "vGivxOG9HJHU"
      },
      "execution_count": null,
      "outputs": []
    }
  ]
}