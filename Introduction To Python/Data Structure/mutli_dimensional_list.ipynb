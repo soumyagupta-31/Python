{
  "nbformat": 4,
  "nbformat_minor": 0,
  "metadata": {
    "colab": {
      "provenance": []
    },
    "kernelspec": {
      "name": "python3",
      "display_name": "Python 3"
    },
    "language_info": {
      "name": "python"
    }
  },
  "cells": [
    {
      "cell_type": "code",
      "execution_count": 1,
      "metadata": {
        "colab": {
          "base_uri": "https://localhost:8080/"
        },
        "id": "k_WYT9rGBGk1",
        "outputId": "1966d9c8-7d01-48d0-a9d1-d02fa5f75507"
      },
      "outputs": [
        {
          "output_type": "stream",
          "name": "stdout",
          "text": [
            "[[1, 2, 3], [4, 5, 6], [7, 8, 9]]\n"
          ]
        }
      ],
      "source": [
        "lst = [[1,2,3],[4,5,6],[7,8,9]]\n",
        "\n",
        "print(lst)"
      ]
    },
    {
      "cell_type": "markdown",
      "source": [
        "accessing the elements"
      ],
      "metadata": {
        "id": "4eF7CE-ZCvQy"
      }
    },
    {
      "cell_type": "code",
      "source": [
        "print(lst)\n",
        "print(lst[0][1])\n",
        "print(lst[2])"
      ],
      "metadata": {
        "colab": {
          "base_uri": "https://localhost:8080/"
        },
        "id": "gtR7A6xMCsUm",
        "outputId": "6c90a637-cffd-4d24-d069-3f020cfb7fa8"
      },
      "execution_count": 5,
      "outputs": [
        {
          "output_type": "stream",
          "name": "stdout",
          "text": [
            "[[1, 2, 3], [4, 5, 6], [7, 8, 9]]\n",
            "2\n",
            "[7, 8, 9]\n"
          ]
        }
      ]
    },
    {
      "cell_type": "markdown",
      "source": [
        "modify the values"
      ],
      "metadata": {
        "id": "_3HchF3kDl4X"
      }
    },
    {
      "cell_type": "code",
      "source": [
        "print(lst)\n",
        "lst[1][1] = 9\n",
        "print(lst)\n",
        "\n",
        "lst[1] = ['ashish , 25']\n",
        "print(lst)"
      ],
      "metadata": {
        "colab": {
          "base_uri": "https://localhost:8080/"
        },
        "id": "iSkcoYtgC4z8",
        "outputId": "09d157df-cf48-4685-cae2-7e6da7aa1d6e"
      },
      "execution_count": 7,
      "outputs": [
        {
          "output_type": "stream",
          "name": "stdout",
          "text": [
            "[[1, 2, 3], [4, 9, 6], [7, 8, 9]]\n",
            "[[1, 2, 3], [4, 9, 6], [7, 8, 9]]\n",
            "[[1, 2, 3], ['ashish , 25'], [7, 8, 9]]\n"
          ]
        }
      ]
    },
    {
      "cell_type": "markdown",
      "source": [
        "appending the values"
      ],
      "metadata": {
        "id": "9NAC-ItdEiF5"
      }
    },
    {
      "cell_type": "code",
      "source": [
        "print(lst)\n",
        "lst.append([9,10,11])\n",
        "print(lst)"
      ],
      "metadata": {
        "colab": {
          "base_uri": "https://localhost:8080/"
        },
        "id": "gsmldExgEAXJ",
        "outputId": "96429fd3-7049-4e07-8b11-cd8b8fc09428"
      },
      "execution_count": 8,
      "outputs": [
        {
          "output_type": "stream",
          "name": "stdout",
          "text": [
            "[[1, 2, 3], ['ashish , 25'], [7, 8, 9]]\n",
            "[[1, 2, 3], ['ashish , 25'], [7, 8, 9], [9, 10, 11]]\n"
          ]
        }
      ]
    },
    {
      "cell_type": "markdown",
      "source": [
        "delete the index"
      ],
      "metadata": {
        "id": "yECvDEMKE_Y3"
      }
    },
    {
      "cell_type": "code",
      "source": [
        "print(lst)\n",
        "del lst[0]\n",
        "print(lst)"
      ],
      "metadata": {
        "colab": {
          "base_uri": "https://localhost:8080/"
        },
        "id": "oFOWTBH1E2n8",
        "outputId": "d6074432-ff20-46a1-f39a-effeb96904ba"
      },
      "execution_count": 9,
      "outputs": [
        {
          "output_type": "stream",
          "name": "stdout",
          "text": [
            "[[1, 2, 3], ['ashish , 25'], [7, 8, 9], [9, 10, 11]]\n",
            "[['ashish , 25'], [7, 8, 9], [9, 10, 11]]\n"
          ]
        }
      ]
    },
    {
      "cell_type": "markdown",
      "source": [
        "length of the list"
      ],
      "metadata": {
        "id": "jkugqgqPFYFq"
      }
    },
    {
      "cell_type": "code",
      "source": [
        "lst = [1,2,3,4,5,[1,2,3],6]\n",
        "print(lst)\n",
        "print(len(lst))\n"
      ],
      "metadata": {
        "colab": {
          "base_uri": "https://localhost:8080/"
        },
        "id": "LGMVLK69FLet",
        "outputId": "ac962c39-9863-4c38-ae97-86914a529201"
      },
      "execution_count": 10,
      "outputs": [
        {
          "output_type": "stream",
          "name": "stdout",
          "text": [
            "[1, 2, 3, 4, 5, [1, 2, 3], 6]\n",
            "7\n"
          ]
        }
      ]
    },
    {
      "cell_type": "markdown",
      "source": [
        "reversing"
      ],
      "metadata": {
        "id": "6OykYoYBGIsB"
      }
    },
    {
      "cell_type": "code",
      "source": [
        "lst =[[1,2,3],[4,5,6],[7,8,9]]\n",
        "print(lst)\n",
        "print(lst[:: -1])"
      ],
      "metadata": {
        "colab": {
          "base_uri": "https://localhost:8080/"
        },
        "id": "ZZY33I_ZFwc7",
        "outputId": "153f7319-987d-4418-f18a-8388e7c3dfd5"
      },
      "execution_count": 12,
      "outputs": [
        {
          "output_type": "stream",
          "name": "stdout",
          "text": [
            "[[1, 2, 3], [4, 5, 6], [7, 8, 9]]\n",
            "[[7, 8, 9], [4, 5, 6], [1, 2, 3]]\n"
          ]
        }
      ]
    },
    {
      "cell_type": "markdown",
      "source": [
        "accessing all the elements"
      ],
      "metadata": {
        "id": "Mibf_CEJGz3w"
      }
    },
    {
      "cell_type": "code",
      "source": [
        "print(lst)\n",
        "\n",
        "for i in lst:\n",
        "  for j in i:\n",
        "      print(j)"
      ],
      "metadata": {
        "colab": {
          "base_uri": "https://localhost:8080/"
        },
        "id": "Hmzs-akLGl-m",
        "outputId": "6d54c8e1-acae-4002-ec21-d99b223af096"
      },
      "execution_count": 15,
      "outputs": [
        {
          "output_type": "stream",
          "name": "stdout",
          "text": [
            "[[1, 2, 3], [4, 5, 6], [7, 8, 9]]\n",
            "1\n",
            "2\n",
            "3\n",
            "4\n",
            "5\n",
            "6\n",
            "7\n",
            "8\n",
            "9\n"
          ]
        }
      ]
    },
    {
      "cell_type": "code",
      "source": [],
      "metadata": {
        "id": "mZ9RuBDgHdco"
      },
      "execution_count": null,
      "outputs": []
    }
  ]
}