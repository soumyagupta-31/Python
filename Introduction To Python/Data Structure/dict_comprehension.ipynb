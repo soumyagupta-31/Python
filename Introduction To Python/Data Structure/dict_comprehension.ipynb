{
  "nbformat": 4,
  "nbformat_minor": 0,
  "metadata": {
    "colab": {
      "provenance": []
    },
    "kernelspec": {
      "name": "python3",
      "display_name": "Python 3"
    },
    "language_info": {
      "name": "python"
    }
  },
  "cells": [
    {
      "cell_type": "markdown",
      "source": [
        "conditions in dictionary comprehension"
      ],
      "metadata": {
        "id": "KHXWNrQ4NUuX"
      }
    },
    {
      "cell_type": "code",
      "execution_count": 2,
      "metadata": {
        "colab": {
          "base_uri": "https://localhost:8080/"
        },
        "id": "D3JzMizJK8A8",
        "outputId": "b1b9dd88-83c8-46b6-db85-204a3891abbe"
      },
      "outputs": [
        {
          "output_type": "stream",
          "name": "stdout",
          "text": [
            "{1: 1, 2: 4, 3: 9, 4: 16, 5: 25}\n"
          ]
        }
      ],
      "source": [
        "dct = {i : i**2 for i in range(1,6)}\n",
        "print(dct)"
      ]
    },
    {
      "cell_type": "code",
      "source": [
        "dct = {i : i**3 for i in range(1,6)}\n",
        "print(dct)"
      ],
      "metadata": {
        "colab": {
          "base_uri": "https://localhost:8080/"
        },
        "id": "2dZ5tpqxMrGf",
        "outputId": "e12e73bb-2a66-4e19-cf05-9c9ec696a107"
      },
      "execution_count": 3,
      "outputs": [
        {
          "output_type": "stream",
          "name": "stdout",
          "text": [
            "{1: 1, 2: 8, 3: 27, 4: 64, 5: 125}\n"
          ]
        }
      ]
    },
    {
      "cell_type": "markdown",
      "source": [
        "to create a dictionary of squared numbers"
      ],
      "metadata": {
        "id": "3E_uV8CkNa8x"
      }
    },
    {
      "cell_type": "code",
      "source": [
        "dct = {i : i**2 for i in range(1,11) if i%2 == 0}\n",
        "print(dct)"
      ],
      "metadata": {
        "colab": {
          "base_uri": "https://localhost:8080/"
        },
        "id": "M_Us6xjWM1uW",
        "outputId": "e10601ec-5d92-4192-e863-674519a316e5"
      },
      "execution_count": 4,
      "outputs": [
        {
          "output_type": "stream",
          "name": "stdout",
          "text": [
            "{2: 4, 4: 16, 6: 36, 8: 64, 10: 100}\n"
          ]
        }
      ]
    },
    {
      "cell_type": "markdown",
      "source": [
        "dictionaries from lists"
      ],
      "metadata": {
        "id": "IFjEiNi-Nj0d"
      }
    },
    {
      "cell_type": "code",
      "source": [
        "lst = ['apple', 'banana', 'grapes']\n",
        "dct = {item : len(item) for item in lst}\n",
        "print(lst)\n",
        "print(dct)"
      ],
      "metadata": {
        "colab": {
          "base_uri": "https://localhost:8080/"
        },
        "id": "L9yhEspINI8x",
        "outputId": "7d6fe5d3-b896-4fe1-a7ad-f00486be62a0"
      },
      "execution_count": 6,
      "outputs": [
        {
          "output_type": "stream",
          "name": "stdout",
          "text": [
            "['apple', 'banana', 'grapes']\n",
            "{'apple': 5, 'banana': 6, 'grapes': 6}\n"
          ]
        }
      ]
    },
    {
      "cell_type": "markdown",
      "source": [
        "reverse"
      ],
      "metadata": {
        "id": "0LfsD4inOibq"
      }
    },
    {
      "cell_type": "code",
      "source": [
        "lst = ['apple', 'banana', 'grapes']\n",
        "dct = {item : len(item) for item in lst}\n",
        "print(lst)\n",
        "print(dct)\n",
        "\n",
        "dct = {len(item) : item for item in lst}\n",
        "print(dct)"
      ],
      "metadata": {
        "colab": {
          "base_uri": "https://localhost:8080/"
        },
        "id": "SjojQRKbN-2p",
        "outputId": "c8e8ef28-4433-47d4-f189-5d3ab9f60418"
      },
      "execution_count": 7,
      "outputs": [
        {
          "output_type": "stream",
          "name": "stdout",
          "text": [
            "['apple', 'banana', 'grapes']\n",
            "{'apple': 5, 'banana': 6, 'grapes': 6}\n",
            "{5: 'apple', 6: 'grapes'}\n"
          ]
        }
      ]
    },
    {
      "cell_type": "markdown",
      "source": [
        "special keys with strings"
      ],
      "metadata": {
        "id": "XvCYi_8ROm8I"
      }
    },
    {
      "cell_type": "code",
      "source": [
        "dct = {'num_'+ str(i):i for i in range(1,11) }\n",
        "print(dct)"
      ],
      "metadata": {
        "colab": {
          "base_uri": "https://localhost:8080/"
        },
        "id": "onqLglmxOfbe",
        "outputId": "7134e9d3-c48c-40a2-f968-1fb968b27991"
      },
      "execution_count": 11,
      "outputs": [
        {
          "output_type": "stream",
          "name": "stdout",
          "text": [
            "{'num_1': 1, 'num_2': 2, 'num_3': 3, 'num_4': 4, 'num_5': 5, 'num_6': 6, 'num_7': 7, 'num_8': 8, 'num_9': 9, 'num_10': 10}\n"
          ]
        }
      ]
    },
    {
      "cell_type": "markdown",
      "source": [
        "shortlisting based on values"
      ],
      "metadata": {
        "id": "_6zex-vePUdn"
      }
    },
    {
      "cell_type": "code",
      "source": [
        "dct = {'num_'+ str(i):i for i in range(1,11) }\n",
        "dct = {k:v for k,v in dct.items() if v%3 == 0}\n",
        "print(dct)"
      ],
      "metadata": {
        "colab": {
          "base_uri": "https://localhost:8080/"
        },
        "id": "6cuAYTWfO481",
        "outputId": "ad2d7d36-5a4c-4eec-da3e-d0107cf23d06"
      },
      "execution_count": 14,
      "outputs": [
        {
          "output_type": "stream",
          "name": "stdout",
          "text": [
            "{'num_3': 3, 'num_6': 6, 'num_9': 9}\n"
          ]
        }
      ]
    },
    {
      "cell_type": "markdown",
      "source": [
        "nested comprehension"
      ],
      "metadata": {
        "id": "fB4UvW6qQShB"
      }
    },
    {
      "cell_type": "code",
      "source": [
        "matrix = [[1,2,3], [4,5,6], [7,8,9]]\n",
        "final_dct = {(i,j) : matrix[i][j] for i in range(3) for j in range(3)}\n",
        "print(final_dct)"
      ],
      "metadata": {
        "colab": {
          "base_uri": "https://localhost:8080/"
        },
        "id": "ULbfd7kfPzwM",
        "outputId": "9b277858-7d53-41f5-ea14-d9984e6eaac6"
      },
      "execution_count": 16,
      "outputs": [
        {
          "output_type": "stream",
          "name": "stdout",
          "text": [
            "{(0, 0): 1, (0, 1): 2, (0, 2): 3, (1, 0): 4, (1, 1): 5, (1, 2): 6, (2, 0): 7, (2, 1): 8, (2, 2): 9}\n"
          ]
        }
      ]
    },
    {
      "cell_type": "markdown",
      "source": [
        "reverse"
      ],
      "metadata": {
        "id": "3E0X_M51R_lL"
      }
    },
    {
      "cell_type": "code",
      "source": [
        "final_dct = { matrix[i][j] : (i,j) for i in range(3) for j in range(3)}\n",
        "print(final_dct)"
      ],
      "metadata": {
        "colab": {
          "base_uri": "https://localhost:8080/"
        },
        "id": "fDXfoiyERZcP",
        "outputId": "44cd5942-c3d5-42cb-ba58-ecdcd0ccfeba"
      },
      "execution_count": 17,
      "outputs": [
        {
          "output_type": "stream",
          "name": "stdout",
          "text": [
            "{1: (0, 0), 2: (0, 1), 3: (0, 2), 4: (1, 0), 5: (1, 1), 6: (1, 2), 7: (2, 0), 8: (2, 1), 9: (2, 2)}\n"
          ]
        }
      ]
    },
    {
      "cell_type": "code",
      "source": [],
      "metadata": {
        "id": "ddcaKiJHR7zK"
      },
      "execution_count": null,
      "outputs": []
    }
  ]
}