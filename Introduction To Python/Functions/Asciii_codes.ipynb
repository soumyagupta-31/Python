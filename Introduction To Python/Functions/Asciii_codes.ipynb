{
  "nbformat": 4,
  "nbformat_minor": 0,
  "metadata": {
    "colab": {
      "provenance": []
    },
    "kernelspec": {
      "name": "python3",
      "display_name": "Python 3"
    },
    "language_info": {
      "name": "python"
    }
  },
  "cells": [
    {
      "cell_type": "markdown",
      "source": [
        "#ord"
      ],
      "metadata": {
        "id": "bJw9XltwbgJd"
      }
    },
    {
      "cell_type": "code",
      "source": [
        "print('a')\n",
        "print(ord('A'))\n",
        "print(ord('0'))\n",
        "print(ord(' '))\n",
        "print(ord('!'))"
      ],
      "metadata": {
        "colab": {
          "base_uri": "https://localhost:8080/"
        },
        "id": "YvYPgXMebCWV",
        "outputId": "c6d95bec-0443-4206-d01e-d895f27adbeb"
      },
      "execution_count": 7,
      "outputs": [
        {
          "output_type": "stream",
          "name": "stdout",
          "text": [
            "a\n",
            "65\n",
            "48\n",
            "32\n",
            "33\n"
          ]
        }
      ]
    },
    {
      "cell_type": "markdown",
      "source": [
        "#chr"
      ],
      "metadata": {
        "id": "W-R0a41Mbjgx"
      }
    },
    {
      "cell_type": "code",
      "source": [
        "print(chr(48))\n",
        "print(chr(97))"
      ],
      "metadata": {
        "colab": {
          "base_uri": "https://localhost:8080/"
        },
        "id": "5CIy1DeqblPd",
        "outputId": "5179ff83-5363-4e96-fc58-8f5c240b6b6a"
      },
      "execution_count": 9,
      "outputs": [
        {
          "output_type": "stream",
          "name": "stdout",
          "text": [
            "0\n",
            "a\n"
          ]
        }
      ]
    },
    {
      "cell_type": "code",
      "source": [
        "for i in range(33,127):\n",
        "  print(i,chr(i))"
      ],
      "metadata": {
        "colab": {
          "base_uri": "https://localhost:8080/"
        },
        "id": "lEnI6H8zcFv8",
        "outputId": "f45a0228-7439-4533-c869-29a58060b6f0"
      },
      "execution_count": 10,
      "outputs": [
        {
          "output_type": "stream",
          "name": "stdout",
          "text": [
            "33 !\n",
            "34 \"\n",
            "35 #\n",
            "36 $\n",
            "37 %\n",
            "38 &\n",
            "39 '\n",
            "40 (\n",
            "41 )\n",
            "42 *\n",
            "43 +\n",
            "44 ,\n",
            "45 -\n",
            "46 .\n",
            "47 /\n",
            "48 0\n",
            "49 1\n",
            "50 2\n",
            "51 3\n",
            "52 4\n",
            "53 5\n",
            "54 6\n",
            "55 7\n",
            "56 8\n",
            "57 9\n",
            "58 :\n",
            "59 ;\n",
            "60 <\n",
            "61 =\n",
            "62 >\n",
            "63 ?\n",
            "64 @\n",
            "65 A\n",
            "66 B\n",
            "67 C\n",
            "68 D\n",
            "69 E\n",
            "70 F\n",
            "71 G\n",
            "72 H\n",
            "73 I\n",
            "74 J\n",
            "75 K\n",
            "76 L\n",
            "77 M\n",
            "78 N\n",
            "79 O\n",
            "80 P\n",
            "81 Q\n",
            "82 R\n",
            "83 S\n",
            "84 T\n",
            "85 U\n",
            "86 V\n",
            "87 W\n",
            "88 X\n",
            "89 Y\n",
            "90 Z\n",
            "91 [\n",
            "92 \\\n",
            "93 ]\n",
            "94 ^\n",
            "95 _\n",
            "96 `\n",
            "97 a\n",
            "98 b\n",
            "99 c\n",
            "100 d\n",
            "101 e\n",
            "102 f\n",
            "103 g\n",
            "104 h\n",
            "105 i\n",
            "106 j\n",
            "107 k\n",
            "108 l\n",
            "109 m\n",
            "110 n\n",
            "111 o\n",
            "112 p\n",
            "113 q\n",
            "114 r\n",
            "115 s\n",
            "116 t\n",
            "117 u\n",
            "118 v\n",
            "119 w\n",
            "120 x\n",
            "121 y\n",
            "122 z\n",
            "123 {\n",
            "124 |\n",
            "125 }\n",
            "126 ~\n"
          ]
        }
      ]
    },
    {
      "cell_type": "markdown",
      "source": [
        "character to Ascii code"
      ],
      "metadata": {
        "id": "NIBTkKWeay56"
      }
    },
    {
      "cell_type": "code",
      "execution_count": 1,
      "metadata": {
        "colab": {
          "base_uri": "https://localhost:8080/"
        },
        "id": "RrWO92lgaHiw",
        "outputId": "7cc53569-0710-49eb-8608-e106e46c25e0"
      },
      "outputs": [
        {
          "output_type": "stream",
          "name": "stdout",
          "text": [
            "The ASCII code of 'A' is 65\n"
          ]
        }
      ],
      "source": [
        "char = 'A'\n",
        "ascii_code = ord(char)\n",
        "print(f\"The ASCII code of '{char}' is {ascii_code}\")"
      ]
    },
    {
      "cell_type": "markdown",
      "source": [
        "Ascii code to character"
      ],
      "metadata": {
        "id": "o0nMafA5a6dO"
      }
    },
    {
      "cell_type": "code",
      "source": [
        "ascii_code = 97\n",
        "character = chr(ascii_code)\n",
        "print(f\"The character with ASCII code {ascii_code} is '{character}'\")"
      ],
      "metadata": {
        "colab": {
          "base_uri": "https://localhost:8080/"
        },
        "id": "jKitOJxAa9bX",
        "outputId": "f6babc5c-b1ff-4016-b20e-a810072dc1bd"
      },
      "execution_count": 11,
      "outputs": [
        {
          "output_type": "stream",
          "name": "stdout",
          "text": [
            "The character with ASCII code 97 is 'a'\n"
          ]
        }
      ]
    }
  ]
}