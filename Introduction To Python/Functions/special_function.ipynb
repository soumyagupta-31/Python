{
  "nbformat": 4,
  "nbformat_minor": 0,
  "metadata": {
    "colab": {
      "provenance": []
    },
    "kernelspec": {
      "name": "python3",
      "display_name": "Python 3"
    },
    "language_info": {
      "name": "python"
    }
  },
  "cells": [
    {
      "cell_type": "markdown",
      "source": [
        "#zip"
      ],
      "metadata": {
        "id": "GxjEAiX6T_gw"
      }
    },
    {
      "cell_type": "code",
      "execution_count": null,
      "metadata": {
        "colab": {
          "base_uri": "https://localhost:8080/"
        },
        "id": "ZhOzo8g2TVpX",
        "outputId": "a05c244b-5107-4239-e5d8-0dcdeafd5b88"
      },
      "outputs": [
        {
          "output_type": "stream",
          "name": "stdout",
          "text": [
            "[('ashish', 25), ('ankur', 26), ('avinash', 27)]\n"
          ]
        }
      ],
      "source": [
        "lst_1 = ['ashish','ankur','avinash']\n",
        "lst_2 = [25,26,27]\n",
        "print(list(zip(lst_1,lst_2)))"
      ]
    },
    {
      "cell_type": "code",
      "source": [
        "matrix = [[1,2,3], [4,5,6], [7,8,9]]\n",
        "print([list(row) for row in zip(matrix)])\n",
        "print([list(row) for row in zip(*matrix)])"
      ],
      "metadata": {
        "colab": {
          "base_uri": "https://localhost:8080/"
        },
        "id": "vlXuNb0mT8Nf",
        "outputId": "5de8dba6-6d66-4fcf-8a78-bcf05b00d339"
      },
      "execution_count": null,
      "outputs": [
        {
          "output_type": "stream",
          "name": "stdout",
          "text": [
            "[[[1, 2, 3]], [[4, 5, 6]], [[7, 8, 9]]]\n",
            "[[1, 4, 7], [2, 5, 8], [3, 6, 9]]\n"
          ]
        }
      ]
    },
    {
      "cell_type": "code",
      "source": [
        "lst_1 = [2, 4, 6]\n",
        "lst_2 = [1, 3, 5]\n",
        "print(sum([i*j for i,j in zip(lst_1, lst_2)]))"
      ],
      "metadata": {
        "colab": {
          "base_uri": "https://localhost:8080/"
        },
        "id": "sl-gQRpkUEjC",
        "outputId": "f5f6a4a9-5f22-4240-a324-fb57570d3512"
      },
      "execution_count": null,
      "outputs": [
        {
          "output_type": "stream",
          "name": "stdout",
          "text": [
            "44\n"
          ]
        }
      ]
    },
    {
      "cell_type": "markdown",
      "source": [
        "#filter"
      ],
      "metadata": {
        "id": "426O8g_FYLBo"
      }
    },
    {
      "cell_type": "code",
      "source": [
        "def is_even(num):\n",
        "    return num % 2 == 0\n",
        "\n",
        "numbers = [1, 2, 3, 4, 5, 6]\n",
        "filtered = filter(is_even, numbers)\n",
        "print(list(filtered))"
      ],
      "metadata": {
        "colab": {
          "base_uri": "https://localhost:8080/"
        },
        "id": "QUF3ErSyYKYk",
        "outputId": "5e26fe32-98c9-401f-ca71-0d9fe1da48e2"
      },
      "execution_count": null,
      "outputs": [
        {
          "output_type": "stream",
          "name": "stdout",
          "text": [
            "[2, 4, 6]\n"
          ]
        }
      ]
    },
    {
      "cell_type": "markdown",
      "source": [
        "#lamda"
      ],
      "metadata": {
        "id": "6Ja5KlTHYm1q"
      }
    },
    {
      "cell_type": "code",
      "source": [
        "add = lambda x, y: x + y\n",
        "print(add(5, 3))"
      ],
      "metadata": {
        "id": "8esa2LEoYUr9",
        "colab": {
          "base_uri": "https://localhost:8080/"
        },
        "outputId": "dc25bf5d-e067-49f6-d5fe-ffb5c6478ec9"
      },
      "execution_count": 8,
      "outputs": [
        {
          "output_type": "stream",
          "name": "stdout",
          "text": [
            "8\n"
          ]
        }
      ]
    },
    {
      "cell_type": "code",
      "source": [
        "num = [1, 2, 3, 4, 5, 6, 7, 8, 9]\n",
        "print(list(filter(lambda x: x % 2 == 0, num)))"
      ],
      "metadata": {
        "colab": {
          "base_uri": "https://localhost:8080/"
        },
        "id": "g3dE52Z7Yyzl",
        "outputId": "7911e4e6-e4f7-4b7b-b99d-e05585530641"
      },
      "execution_count": 9,
      "outputs": [
        {
          "output_type": "stream",
          "name": "stdout",
          "text": [
            "[2, 4, 6, 8]\n"
          ]
        }
      ]
    },
    {
      "cell_type": "markdown",
      "source": [
        "#map"
      ],
      "metadata": {
        "id": "LrD7jSJQZC78"
      }
    },
    {
      "cell_type": "code",
      "source": [
        "def square(num):\n",
        "    return num ** 2\n",
        "\n",
        "numbers = [1, 2, 3, 4]\n",
        "squared = map(square, numbers)\n",
        "print(list(squared))"
      ],
      "metadata": {
        "colab": {
          "base_uri": "https://localhost:8080/"
        },
        "id": "IzQgTj75Y1HQ",
        "outputId": "1679e33c-6a48-484f-ad25-db85c3910047"
      },
      "execution_count": 10,
      "outputs": [
        {
          "output_type": "stream",
          "name": "stdout",
          "text": [
            "[1, 4, 9, 16]\n"
          ]
        }
      ]
    },
    {
      "cell_type": "code",
      "source": [
        "names = ['ashish', 'bob', 'chandan', 'don']\n",
        "print(list(map(lambda x: len(x), names)))"
      ],
      "metadata": {
        "colab": {
          "base_uri": "https://localhost:8080/"
        },
        "id": "8asugjnCY1Do",
        "outputId": "445522a3-03bf-4e6c-b763-3b6242cdd3c3"
      },
      "execution_count": 11,
      "outputs": [
        {
          "output_type": "stream",
          "name": "stdout",
          "text": [
            "[6, 3, 7, 3]\n"
          ]
        }
      ]
    }
  ]
}