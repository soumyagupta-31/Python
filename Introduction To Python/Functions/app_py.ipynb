{
  "nbformat": 4,
  "nbformat_minor": 0,
  "metadata": {
    "colab": {
      "provenance": []
    },
    "kernelspec": {
      "name": "python3",
      "display_name": "Python 3"
    },
    "language_info": {
      "name": "python"
    }
  },
  "cells": [
    {
      "cell_type": "code",
      "execution_count": null,
      "metadata": {
        "id": "iznjGmhd1_nO"
      },
      "outputs": [],
      "source": [
        "from functions import *\n",
        "\n"
      ]
    },
    {
      "cell_type": "code",
      "source": [
        "lst = [1,2,3,4,5]\n",
        "\n",
        "print(greet('ashish'))\n",
        "print(subm(10,5))\n",
        "print(arithmetic(10,5))\n",
        "print(final(lst))\n",
        "print(sq(lst))"
      ],
      "metadata": {
        "colab": {
          "base_uri": "https://localhost:8080/"
        },
        "id": "amkKazTl3CsM",
        "outputId": "0c99c6e3-1065-4ba5-e27b-2aa561f9aa38"
      },
      "execution_count": null,
      "outputs": [
        {
          "output_type": "stream",
          "name": "stdout",
          "text": [
            "hello ashish\n",
            "None\n",
            "15\n",
            "(15, 5, 50)\n",
            "[2, 12, 36, 80, 150]\n",
            "[1, 4, 9, 16, 25]\n"
          ]
        }
      ]
    },
    {
      "cell_type": "markdown",
      "source": [
        "#math"
      ],
      "metadata": {
        "id": "ecNscpr782l2"
      }
    },
    {
      "cell_type": "code",
      "source": [
        "import math\n",
        "\n",
        "x = 10.8\n",
        "print(math.ceil(x))\n",
        "print(math.floor(x))\n",
        "print(math.trunc(x))\n"
      ],
      "metadata": {
        "id": "y36ACHHC3GQM",
        "colab": {
          "base_uri": "https://localhost:8080/"
        },
        "outputId": "14eade8a-7647-4e90-87c3-db817f072ba8"
      },
      "execution_count": 21,
      "outputs": [
        {
          "output_type": "stream",
          "name": "stdout",
          "text": [
            "11\n",
            "10\n",
            "10\n"
          ]
        }
      ]
    },
    {
      "cell_type": "code",
      "source": [
        "x = 3\n",
        "\n",
        "print(math.exp(x))\n",
        "print(math.log10(x))\n"
      ],
      "metadata": {
        "colab": {
          "base_uri": "https://localhost:8080/"
        },
        "id": "s31cKuaw9ZQW",
        "outputId": "c2fa66a6-4664-4ad0-97cb-230e6737e879"
      },
      "execution_count": 22,
      "outputs": [
        {
          "output_type": "stream",
          "name": "stdout",
          "text": [
            "20.085536923187668\n",
            "0.47712125471966244\n"
          ]
        }
      ]
    },
    {
      "cell_type": "markdown",
      "source": [
        "trignometry functions"
      ],
      "metadata": {
        "id": "cX_FV6he-FUJ"
      }
    },
    {
      "cell_type": "code",
      "source": [
        "x = 90\n",
        "\n",
        "print(math.sin(x))\n",
        "print(math.cos(x))\n",
        "print(math.tan(x))"
      ],
      "metadata": {
        "colab": {
          "base_uri": "https://localhost:8080/"
        },
        "id": "ywWaMc0H9Y_z",
        "outputId": "af0ebe86-e20a-4668-e8f6-ba9fb9d1d013"
      },
      "execution_count": 23,
      "outputs": [
        {
          "output_type": "stream",
          "name": "stdout",
          "text": [
            "0.8939966636005579\n",
            "-0.4480736161291701\n",
            "-1.995200412208242\n"
          ]
        }
      ]
    },
    {
      "cell_type": "markdown",
      "source": [
        "constants"
      ],
      "metadata": {
        "id": "DtRS9yOE-NJv"
      }
    },
    {
      "cell_type": "code",
      "source": [
        "print(math.pi)\n",
        "print(math.e)\n",
        "print(10, math.factorial(10))"
      ],
      "metadata": {
        "colab": {
          "base_uri": "https://localhost:8080/"
        },
        "id": "_aZHV8AM91CT",
        "outputId": "cc464fdd-5630-447c-9eed-d5ed34406f85"
      },
      "execution_count": 25,
      "outputs": [
        {
          "output_type": "stream",
          "name": "stdout",
          "text": [
            "3.141592653589793\n",
            "2.718281828459045\n",
            "10 3628800\n"
          ]
        }
      ]
    },
    {
      "cell_type": "markdown",
      "source": [
        "#random"
      ],
      "metadata": {
        "id": "UDcQd9DQ-VF7"
      }
    },
    {
      "cell_type": "code",
      "source": [
        "import random"
      ],
      "metadata": {
        "id": "CKXDySlg99Ja"
      },
      "execution_count": 26,
      "outputs": []
    },
    {
      "cell_type": "code",
      "source": [
        "random.seed(40)\n",
        "print(random.random())\n",
        "print(random.randint(1,11))\n",
        "print(random.choice([1,2,3,4,5]))\n",
        "print(random.sample([1,2,3,4,5],2))\n",
        "print(random.uniform(1.0,3.0))\n"
      ],
      "metadata": {
        "colab": {
          "base_uri": "https://localhost:8080/"
        },
        "id": "vw7_Aez0-xnb",
        "outputId": "d5253149-a319-45a8-8396-1d1d951838f1"
      },
      "execution_count": 33,
      "outputs": [
        {
          "output_type": "stream",
          "name": "stdout",
          "text": [
            "0.4586067093870614\n",
            "9\n",
            "1\n",
            "[2, 3]\n",
            "2.3291159862546795\n"
          ]
        }
      ]
    },
    {
      "cell_type": "markdown",
      "source": [
        "#date and time"
      ],
      "metadata": {
        "id": "h4y0baer_nxj"
      }
    },
    {
      "cell_type": "code",
      "source": [
        "import datetime"
      ],
      "metadata": {
        "id": "Tk4prs25-1ea"
      },
      "execution_count": 34,
      "outputs": []
    },
    {
      "cell_type": "code",
      "source": [
        "print(datetime.datetime.now())\n",
        "print(datetime.datetime(2023,10,28,10,30,0))\n",
        "\n",
        "print(datetime.datetime.now().strftime(\"%Y-%m-%d %H:%M:%S\"))\n",
        "date_1 = datetime.datetime(2023,10,28,10,30,0)\n",
        "date_2 = datetime.datetime.now()\n",
        "print(date_1 - date_2)"
      ],
      "metadata": {
        "colab": {
          "base_uri": "https://localhost:8080/"
        },
        "id": "jDnI1kJ4_xm4",
        "outputId": "8a8d68f6-c6b3-4c60-a439-2dcf8f94ae13"
      },
      "execution_count": 39,
      "outputs": [
        {
          "output_type": "stream",
          "name": "stdout",
          "text": [
            "2025-05-01 18:02:48.417415\n",
            "2023-10-28 10:30:00\n",
            "2025-05-01 18:02:48\n",
            "-552 days, 16:27:11.582245\n"
          ]
        }
      ]
    },
    {
      "cell_type": "markdown",
      "source": [
        "#collections"
      ],
      "metadata": {
        "id": "8BXVrCm0BG5G"
      }
    },
    {
      "cell_type": "code",
      "source": [
        "from collections import Counter, defaultdict, OrderedDict\n",
        "\n",
        "lst = [1, 2, 3, 4, 5, 5, 5, 6, 6, 7]\n",
        "print(Counter(lst))"
      ],
      "metadata": {
        "colab": {
          "base_uri": "https://localhost:8080/"
        },
        "id": "hUiolBRkBD5m",
        "outputId": "e2801418-33d5-4d98-9b79-18e5cfa425c5"
      },
      "execution_count": 45,
      "outputs": [
        {
          "output_type": "stream",
          "name": "stdout",
          "text": [
            "Counter({5: 3, 6: 2, 1: 1, 2: 1, 3: 1, 4: 1, 7: 1})\n"
          ]
        }
      ]
    },
    {
      "cell_type": "markdown",
      "source": [
        "default dictionary"
      ],
      "metadata": {
        "id": "KASvcIcTBgnf"
      }
    },
    {
      "cell_type": "code",
      "source": [
        "\n",
        "d = defaultdict(int)\n",
        "d['a'] += 2\n",
        "print(d)"
      ],
      "metadata": {
        "colab": {
          "base_uri": "https://localhost:8080/"
        },
        "id": "pOBmYNjOBfqU",
        "outputId": "576a24b9-1e08-4b9a-9e0f-b0d44ce73bcf"
      },
      "execution_count": 43,
      "outputs": [
        {
          "output_type": "stream",
          "name": "stdout",
          "text": [
            "defaultdict(<class 'int'>, {'a': 2})\n"
          ]
        }
      ]
    },
    {
      "cell_type": "markdown",
      "source": [
        "order dict"
      ],
      "metadata": {
        "id": "L8Y89n3DBwsU"
      }
    },
    {
      "cell_type": "code",
      "source": [
        "d = OrderedDict()\n",
        "d['one'] = 1\n",
        "d['two'] = 2\n",
        "print(d)"
      ],
      "metadata": {
        "colab": {
          "base_uri": "https://localhost:8080/"
        },
        "id": "uUZIF0soByNh",
        "outputId": "a87e970e-2f63-4488-af42-6d56db4e332a"
      },
      "execution_count": 46,
      "outputs": [
        {
          "output_type": "stream",
          "name": "stdout",
          "text": [
            "OrderedDict([('one', 1), ('two', 2)])\n"
          ]
        }
      ]
    },
    {
      "cell_type": "markdown",
      "source": [
        "#string"
      ],
      "metadata": {
        "id": "KRaUpQF_CKtw"
      }
    },
    {
      "cell_type": "code",
      "source": [
        "import string\n",
        "\n",
        "print(string.ascii_letters)     #lower + upper\n",
        "print(string.ascii_lowercase)   #lower\n",
        "print(string.ascii_uppercase)   #upper"
      ],
      "metadata": {
        "colab": {
          "base_uri": "https://localhost:8080/"
        },
        "id": "eWHZPyUdB9XR",
        "outputId": "15817b2a-a96f-406c-8ec0-bedb4e9abb26"
      },
      "execution_count": 47,
      "outputs": [
        {
          "output_type": "stream",
          "name": "stdout",
          "text": [
            "abcdefghijklmnopqrstuvwxyzABCDEFGHIJKLMNOPQRSTUVWXYZ\n",
            "abcdefghijklmnopqrstuvwxyz\n",
            "ABCDEFGHIJKLMNOPQRSTUVWXYZ\n"
          ]
        }
      ]
    },
    {
      "cell_type": "code",
      "source": [
        "print(string.digits)        # '0123456789'\n",
        "print(string.hexdigits)     # '0123456789abcdefABCDEF'\n",
        "print(string.octdigits)     # '01234567'"
      ],
      "metadata": {
        "colab": {
          "base_uri": "https://localhost:8080/"
        },
        "id": "4skqD3tXCsNS",
        "outputId": "8b565c13-8f83-4e84-ddcc-bcc85bbb3758"
      },
      "execution_count": 48,
      "outputs": [
        {
          "output_type": "stream",
          "name": "stdout",
          "text": [
            "0123456789\n",
            "0123456789abcdefABCDEF\n",
            "01234567\n"
          ]
        }
      ]
    },
    {
      "cell_type": "code",
      "source": [
        "print(string.punctuation)"
      ],
      "metadata": {
        "colab": {
          "base_uri": "https://localhost:8080/"
        },
        "id": "zFCeycLdDBh8",
        "outputId": "4022fd32-fb76-4d5d-b3a0-b512f2a95088"
      },
      "execution_count": 49,
      "outputs": [
        {
          "output_type": "stream",
          "name": "stdout",
          "text": [
            "!\"#$%&'()*+,-./:;<=>?@[\\]^_`{|}~\n"
          ]
        }
      ]
    }
  ]
}