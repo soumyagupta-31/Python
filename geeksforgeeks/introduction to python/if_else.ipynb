{
  "nbformat": 4,
  "nbformat_minor": 0,
  "metadata": {
    "colab": {
      "provenance": []
    },
    "kernelspec": {
      "name": "python3",
      "display_name": "Python 3"
    },
    "language_info": {
      "name": "python"
    }
  },
  "cells": [
    {
      "cell_type": "markdown",
      "source": [
        "ques. check the no. divisible by 5 and 7 or not, if divisible then print print sqaure of it otherwise not divisible"
      ],
      "metadata": {
        "id": "YEWJe7wNMzLg"
      }
    },
    {
      "cell_type": "code",
      "source": [
        "n = 35\n",
        "if((n%5 ==0) and (n%7==0)):\n",
        "  print(n**2)\n",
        "\n",
        "else:\n",
        "  print('not divisible')"
      ],
      "metadata": {
        "colab": {
          "base_uri": "https://localhost:8080/"
        },
        "id": "xilMAgrYM0Z_",
        "outputId": "6c3540f5-d871-4686-8f61-b1c12e7eeddf"
      },
      "execution_count": 5,
      "outputs": [
        {
          "output_type": "stream",
          "name": "stdout",
          "text": [
            "1225\n"
          ]
        }
      ]
    },
    {
      "cell_type": "markdown",
      "source": [
        "ques. if the user is eligible for voting not valid 0-17 not eligible 18-100 otherwise eligible. write code"
      ],
      "metadata": {
        "id": "lKOC7bM2M5Pr"
      }
    },
    {
      "cell_type": "code",
      "source": [
        "age = (int(input('enter your age: ')))\n",
        "\n",
        "if(age >= 0) and (age <= 17):\n",
        "  print(\"not valid age\")\n",
        "\n",
        "elif(age>= 18) and (age<=100):\n",
        "  print(\"not eligible\")\n",
        "\n",
        "else:\n",
        "  print(\"eligible\")"
      ],
      "metadata": {
        "colab": {
          "base_uri": "https://localhost:8080/"
        },
        "id": "FflF_wSMM3ks",
        "outputId": "0081b13b-ee85-4b08-8e73-e0e3512f2789"
      },
      "execution_count": 6,
      "outputs": [
        {
          "output_type": "stream",
          "name": "stdout",
          "text": [
            "enter your age: 5\n",
            "not valid age\n"
          ]
        }
      ]
    },
    {
      "cell_type": "code",
      "source": [
        "n = 35\n",
        "\n",
        "if n % 5 == 0 and n % 7 == 0:\n",
        "    print(\"Divisible by both 5 and 7\")\n",
        "\n",
        "elif n % 5 == 0 and n % 7 != 0:\n",
        "    print(\"Divisible by 5 but not 7\")\n",
        "\n",
        "elif n % 7 == 0 and n % 5 != 0:\n",
        "    print(\"Divisible by 7 but not 5\")\n",
        "\n",
        "else:\n",
        "    print(\"Not divisible by 5 or 7\")\n"
      ],
      "metadata": {
        "colab": {
          "base_uri": "https://localhost:8080/"
        },
        "id": "w5N8Gl4UM9Lq",
        "outputId": "5e6e501d-4df2-4bc4-8498-0b5fb4c690f8"
      },
      "execution_count": 7,
      "outputs": [
        {
          "output_type": "stream",
          "name": "stdout",
          "text": [
            "Divisible by both 5 and 7\n"
          ]
        }
      ]
    },
    {
      "cell_type": "code",
      "source": [
        "n = 7\n",
        "s = 0\n",
        "\n",
        "for i in range(1,n+1):\n",
        "   s = s + i\n",
        "print(s)"
      ],
      "metadata": {
        "colab": {
          "base_uri": "https://localhost:8080/"
        },
        "id": "H80nqofFNJBY",
        "outputId": "af1124b4-909b-4fac-d88c-027514c40550"
      },
      "execution_count": 8,
      "outputs": [
        {
          "output_type": "stream",
          "name": "stdout",
          "text": [
            "28\n"
          ]
        }
      ]
    },
    {
      "cell_type": "markdown",
      "source": [
        "1. rolling 2 dices, whats the probability of you getting a sum of 8\n",
        "2. rolling 3 dices, whats the probability of you getting a sum of 9\n",
        "3. check if you've rolling 3 dices , is the probability for getting every number same or not"
      ],
      "metadata": {
        "id": "9gC_NKRHNRhU"
      }
    },
    {
      "cell_type": "code",
      "source": [
        "for i in range(1,7):\n",
        "  for j in range(1,7):\n",
        "    for k in range(1,7):\n",
        "       print(i,j,k)\n",
        "    print('-'*10)\n",
        "print()"
      ],
      "metadata": {
        "colab": {
          "base_uri": "https://localhost:8080/"
        },
        "id": "X-2g6mikNMJy",
        "outputId": "093b032b-2ddb-401e-8946-6d47248b16fd"
      },
      "execution_count": 10,
      "outputs": [
        {
          "output_type": "stream",
          "name": "stdout",
          "text": [
            "1 1 1\n",
            "1 1 2\n",
            "1 1 3\n",
            "1 1 4\n",
            "1 1 5\n",
            "1 1 6\n",
            "----------\n",
            "1 2 1\n",
            "1 2 2\n",
            "1 2 3\n",
            "1 2 4\n",
            "1 2 5\n",
            "1 2 6\n",
            "----------\n",
            "1 3 1\n",
            "1 3 2\n",
            "1 3 3\n",
            "1 3 4\n",
            "1 3 5\n",
            "1 3 6\n",
            "----------\n",
            "1 4 1\n",
            "1 4 2\n",
            "1 4 3\n",
            "1 4 4\n",
            "1 4 5\n",
            "1 4 6\n",
            "----------\n",
            "1 5 1\n",
            "1 5 2\n",
            "1 5 3\n",
            "1 5 4\n",
            "1 5 5\n",
            "1 5 6\n",
            "----------\n",
            "1 6 1\n",
            "1 6 2\n",
            "1 6 3\n",
            "1 6 4\n",
            "1 6 5\n",
            "1 6 6\n",
            "----------\n",
            "2 1 1\n",
            "2 1 2\n",
            "2 1 3\n",
            "2 1 4\n",
            "2 1 5\n",
            "2 1 6\n",
            "----------\n",
            "2 2 1\n",
            "2 2 2\n",
            "2 2 3\n",
            "2 2 4\n",
            "2 2 5\n",
            "2 2 6\n",
            "----------\n",
            "2 3 1\n",
            "2 3 2\n",
            "2 3 3\n",
            "2 3 4\n",
            "2 3 5\n",
            "2 3 6\n",
            "----------\n",
            "2 4 1\n",
            "2 4 2\n",
            "2 4 3\n",
            "2 4 4\n",
            "2 4 5\n",
            "2 4 6\n",
            "----------\n",
            "2 5 1\n",
            "2 5 2\n",
            "2 5 3\n",
            "2 5 4\n",
            "2 5 5\n",
            "2 5 6\n",
            "----------\n",
            "2 6 1\n",
            "2 6 2\n",
            "2 6 3\n",
            "2 6 4\n",
            "2 6 5\n",
            "2 6 6\n",
            "----------\n",
            "3 1 1\n",
            "3 1 2\n",
            "3 1 3\n",
            "3 1 4\n",
            "3 1 5\n",
            "3 1 6\n",
            "----------\n",
            "3 2 1\n",
            "3 2 2\n",
            "3 2 3\n",
            "3 2 4\n",
            "3 2 5\n",
            "3 2 6\n",
            "----------\n",
            "3 3 1\n",
            "3 3 2\n",
            "3 3 3\n",
            "3 3 4\n",
            "3 3 5\n",
            "3 3 6\n",
            "----------\n",
            "3 4 1\n",
            "3 4 2\n",
            "3 4 3\n",
            "3 4 4\n",
            "3 4 5\n",
            "3 4 6\n",
            "----------\n",
            "3 5 1\n",
            "3 5 2\n",
            "3 5 3\n",
            "3 5 4\n",
            "3 5 5\n",
            "3 5 6\n",
            "----------\n",
            "3 6 1\n",
            "3 6 2\n",
            "3 6 3\n",
            "3 6 4\n",
            "3 6 5\n",
            "3 6 6\n",
            "----------\n",
            "4 1 1\n",
            "4 1 2\n",
            "4 1 3\n",
            "4 1 4\n",
            "4 1 5\n",
            "4 1 6\n",
            "----------\n",
            "4 2 1\n",
            "4 2 2\n",
            "4 2 3\n",
            "4 2 4\n",
            "4 2 5\n",
            "4 2 6\n",
            "----------\n",
            "4 3 1\n",
            "4 3 2\n",
            "4 3 3\n",
            "4 3 4\n",
            "4 3 5\n",
            "4 3 6\n",
            "----------\n",
            "4 4 1\n",
            "4 4 2\n",
            "4 4 3\n",
            "4 4 4\n",
            "4 4 5\n",
            "4 4 6\n",
            "----------\n",
            "4 5 1\n",
            "4 5 2\n",
            "4 5 3\n",
            "4 5 4\n",
            "4 5 5\n",
            "4 5 6\n",
            "----------\n",
            "4 6 1\n",
            "4 6 2\n",
            "4 6 3\n",
            "4 6 4\n",
            "4 6 5\n",
            "4 6 6\n",
            "----------\n",
            "5 1 1\n",
            "5 1 2\n",
            "5 1 3\n",
            "5 1 4\n",
            "5 1 5\n",
            "5 1 6\n",
            "----------\n",
            "5 2 1\n",
            "5 2 2\n",
            "5 2 3\n",
            "5 2 4\n",
            "5 2 5\n",
            "5 2 6\n",
            "----------\n",
            "5 3 1\n",
            "5 3 2\n",
            "5 3 3\n",
            "5 3 4\n",
            "5 3 5\n",
            "5 3 6\n",
            "----------\n",
            "5 4 1\n",
            "5 4 2\n",
            "5 4 3\n",
            "5 4 4\n",
            "5 4 5\n",
            "5 4 6\n",
            "----------\n",
            "5 5 1\n",
            "5 5 2\n",
            "5 5 3\n",
            "5 5 4\n",
            "5 5 5\n",
            "5 5 6\n",
            "----------\n",
            "5 6 1\n",
            "5 6 2\n",
            "5 6 3\n",
            "5 6 4\n",
            "5 6 5\n",
            "5 6 6\n",
            "----------\n",
            "6 1 1\n",
            "6 1 2\n",
            "6 1 3\n",
            "6 1 4\n",
            "6 1 5\n",
            "6 1 6\n",
            "----------\n",
            "6 2 1\n",
            "6 2 2\n",
            "6 2 3\n",
            "6 2 4\n",
            "6 2 5\n",
            "6 2 6\n",
            "----------\n",
            "6 3 1\n",
            "6 3 2\n",
            "6 3 3\n",
            "6 3 4\n",
            "6 3 5\n",
            "6 3 6\n",
            "----------\n",
            "6 4 1\n",
            "6 4 2\n",
            "6 4 3\n",
            "6 4 4\n",
            "6 4 5\n",
            "6 4 6\n",
            "----------\n",
            "6 5 1\n",
            "6 5 2\n",
            "6 5 3\n",
            "6 5 4\n",
            "6 5 5\n",
            "6 5 6\n",
            "----------\n",
            "6 6 1\n",
            "6 6 2\n",
            "6 6 3\n",
            "6 6 4\n",
            "6 6 5\n",
            "6 6 6\n",
            "----------\n",
            "\n"
          ]
        }
      ]
    },
    {
      "cell_type": "markdown",
      "source": [
        "wap to find the factorial of first n nos."
      ],
      "metadata": {
        "id": "mZAtJxUINkp2"
      }
    },
    {
      "cell_type": "code",
      "source": [
        "n = 5\n",
        "s = 1\n",
        "\n",
        "for i in range(1,n+1):\n",
        "    s *= i\n",
        "print(s)\n"
      ],
      "metadata": {
        "colab": {
          "base_uri": "https://localhost:8080/"
        },
        "id": "WLkBJsM9NUmF",
        "outputId": "8f6c4479-25d0-45e5-9fb6-8794ed177087"
      },
      "execution_count": 11,
      "outputs": [
        {
          "output_type": "stream",
          "name": "stdout",
          "text": [
            "120\n"
          ]
        }
      ]
    },
    {
      "cell_type": "code",
      "source": [],
      "metadata": {
        "id": "7g3ief2dNm-E"
      },
      "execution_count": null,
      "outputs": []
    }
  ]
}