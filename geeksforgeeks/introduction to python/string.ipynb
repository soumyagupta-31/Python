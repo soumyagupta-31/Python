{
  "nbformat": 4,
  "nbformat_minor": 0,
  "metadata": {
    "colab": {
      "provenance": []
    },
    "kernelspec": {
      "name": "python3",
      "display_name": "Python 3"
    },
    "language_info": {
      "name": "python"
    }
  },
  "cells": [
    {
      "cell_type": "markdown",
      "source": [
        "STRING\n",
        "\n",
        "str concatenation"
      ],
      "metadata": {
        "id": "TQZjXtaPOeWt"
      }
    },
    {
      "cell_type": "code",
      "execution_count": 2,
      "metadata": {
        "colab": {
          "base_uri": "https://localhost:8080/"
        },
        "id": "NGmdVmmoOJE8",
        "outputId": "6943f6ec-8025-4f41-a7ff-24eed45bc76f"
      },
      "outputs": [
        {
          "output_type": "stream",
          "name": "stdout",
          "text": [
            "ashish jangra\n",
            "---\n"
          ]
        }
      ],
      "source": [
        "print('ashish' +' ' + 'jangra' )\n",
        "print('-' * 3)"
      ]
    },
    {
      "cell_type": "markdown",
      "source": [
        "string replication"
      ],
      "metadata": {
        "id": "fI7GPBKtOsEf"
      }
    },
    {
      "cell_type": "code",
      "source": [
        "print('ashish' * 3)\n",
        "print('-' * 3)"
      ],
      "metadata": {
        "colab": {
          "base_uri": "https://localhost:8080/"
        },
        "id": "qVh3NZ8DOkjY",
        "outputId": "7c2aec4c-bb48-498e-be52-66ef3a09a991"
      },
      "execution_count": 3,
      "outputs": [
        {
          "output_type": "stream",
          "name": "stdout",
          "text": [
            "ashishashishashish\n",
            "---\n"
          ]
        }
      ]
    },
    {
      "cell_type": "markdown",
      "source": [
        "length"
      ],
      "metadata": {
        "id": "z_ExQw_GO5Or"
      }
    },
    {
      "cell_type": "code",
      "source": [
        "print('ashish jangra')\n",
        "print(len('ashish jangra'))"
      ],
      "metadata": {
        "id": "rFZJ48cWO1uQ"
      },
      "execution_count": null,
      "outputs": []
    },
    {
      "cell_type": "markdown",
      "source": [
        "slicing"
      ],
      "metadata": {
        "id": "jC97ZTfUO-CU"
      }
    },
    {
      "cell_type": "code",
      "source": [
        "print('ashish jangra')\n",
        "print('ashish'[2])\n",
        "print('ashish'[-2])\n",
        "print('ashish jangra'[0:6]) #here you need one more space for the ouput\n",
        "print('ashish jangra'[7:13])\n",
        "print('ashish jangra'[:6]) #same as first eg\n",
        "print('ashish jangra'[-5:-1]) #reverse order"
      ],
      "metadata": {
        "colab": {
          "base_uri": "https://localhost:8080/"
        },
        "id": "SM5eL24HO-ul",
        "outputId": "84f848be-dd12-47dd-e528-fd6502adf0c6"
      },
      "execution_count": 4,
      "outputs": [
        {
          "output_type": "stream",
          "name": "stdout",
          "text": [
            "ashish jangra\n",
            "h\n",
            "s\n",
            "ashish\n",
            "jangra\n",
            "ashish\n",
            "angr\n"
          ]
        }
      ]
    },
    {
      "cell_type": "markdown",
      "source": [
        "case conversion"
      ],
      "metadata": {
        "id": "jPxPta98PGV4"
      }
    },
    {
      "cell_type": "code",
      "source": [
        "print('ashish jangra'.lower())\n",
        "print('ashish jangra'[0:6].upper())\n",
        "print('-' *20)"
      ],
      "metadata": {
        "colab": {
          "base_uri": "https://localhost:8080/"
        },
        "id": "tccaiceUPBBh",
        "outputId": "10c9227e-31e0-42fd-ce76-d2ca6bc5872f"
      },
      "execution_count": 5,
      "outputs": [
        {
          "output_type": "stream",
          "name": "stdout",
          "text": [
            "ashish jangra\n",
            "ASHISH\n",
            "--------------------\n"
          ]
        }
      ]
    },
    {
      "cell_type": "markdown",
      "source": [
        "stripping"
      ],
      "metadata": {
        "id": "1UZuzHyJPLcj"
      }
    },
    {
      "cell_type": "code",
      "source": [
        "print('        ashish jangra      '.strip())\n",
        "print('  ashish   jangra    '.strip())\n",
        "print('   ashish jangra   ')"
      ],
      "metadata": {
        "colab": {
          "base_uri": "https://localhost:8080/"
        },
        "id": "y_gaHXb2PFl2",
        "outputId": "31dbac90-9646-47a8-fbe3-b9f2ec545614"
      },
      "execution_count": 6,
      "outputs": [
        {
          "output_type": "stream",
          "name": "stdout",
          "text": [
            "ashish jangra\n",
            "ashish   jangra\n",
            "   ashish jangra   \n"
          ]
        }
      ]
    },
    {
      "cell_type": "markdown",
      "source": [
        "replacing"
      ],
      "metadata": {
        "id": "rerket8mPS4A"
      }
    },
    {
      "cell_type": "code",
      "source": [
        "print('ashish jangra'.replace('sh','-'))"
      ],
      "metadata": {
        "colab": {
          "base_uri": "https://localhost:8080/"
        },
        "id": "yZnpst_uPOc5",
        "outputId": "9abdfb55-aeb8-4da2-bf21-4fe75293cb76"
      },
      "execution_count": 7,
      "outputs": [
        {
          "output_type": "stream",
          "name": "stdout",
          "text": [
            "a-i- jangra\n"
          ]
        }
      ]
    },
    {
      "cell_type": "markdown",
      "source": [
        "count"
      ],
      "metadata": {
        "id": "Qsq3sQNyPTaU"
      }
    },
    {
      "cell_type": "code",
      "source": [
        "print('ashish jangra'.count('s'))\n",
        "print('ashish jangra'.count('A'))\n",
        "print('ashish jangra'.lower().count('a'))"
      ],
      "metadata": {
        "colab": {
          "base_uri": "https://localhost:8080/"
        },
        "id": "_mPqoLEdPSU_",
        "outputId": "4b85670d-fe83-4760-cfb6-63303ff3f61e"
      },
      "execution_count": 8,
      "outputs": [
        {
          "output_type": "stream",
          "name": "stdout",
          "text": [
            "2\n",
            "0\n",
            "3\n"
          ]
        }
      ]
    },
    {
      "cell_type": "markdown",
      "source": [
        "find"
      ],
      "metadata": {
        "id": "3J_58H0IPgQt"
      }
    },
    {
      "cell_type": "code",
      "source": [
        "print('ashish jangra'.find('ish'))"
      ],
      "metadata": {
        "colab": {
          "base_uri": "https://localhost:8080/"
        },
        "id": "4tOHApZ9Pb9_",
        "outputId": "4d48ed2d-6f6f-46e0-b37d-8730b67a8a93"
      },
      "execution_count": 9,
      "outputs": [
        {
          "output_type": "stream",
          "name": "stdout",
          "text": [
            "3\n"
          ]
        }
      ]
    },
    {
      "cell_type": "markdown",
      "source": [
        "check"
      ],
      "metadata": {
        "id": "OiPxbkCcPguw"
      }
    },
    {
      "cell_type": "code",
      "source": [
        "print('ashish'.isalpha())\n",
        "print('123'.isdigit())\n",
        "print('ashish jangra'.islower())\n",
        "print('ashish jangra'.isupper())\n",
        "print('-'*20)"
      ],
      "metadata": {
        "colab": {
          "base_uri": "https://localhost:8080/"
        },
        "id": "QePeSUNXPkOb",
        "outputId": "d3020496-131d-4590-fb23-bc9e35ac0686"
      },
      "execution_count": 10,
      "outputs": [
        {
          "output_type": "stream",
          "name": "stdout",
          "text": [
            "True\n",
            "True\n",
            "True\n",
            "False\n",
            "--------------------\n"
          ]
        }
      ]
    },
    {
      "cell_type": "markdown",
      "metadata": {
        "id": "LIkA5Qpp8Fq-"
      },
      "source": [
        "capitalizing"
      ]
    },
    {
      "cell_type": "code",
      "source": [
        "print('ashish jangra'.capitalize())\n",
        "print('ashish jangra'.title())"
      ],
      "metadata": {
        "colab": {
          "base_uri": "https://localhost:8080/"
        },
        "id": "EtsgvliLPmUk",
        "outputId": "3922634e-bfba-47a8-b86d-5be06d59d8a8"
      },
      "execution_count": 11,
      "outputs": [
        {
          "output_type": "stream",
          "name": "stdout",
          "text": [
            "Ashish jangra\n",
            "Ashish Jangra\n"
          ]
        }
      ]
    },
    {
      "cell_type": "markdown",
      "metadata": {
        "id": "9GUkqOkoP67E"
      },
      "source": []
    }
  ]
}